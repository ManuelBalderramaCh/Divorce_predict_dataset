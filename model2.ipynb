{
 "cells": [
  {
   "cell_type": "markdown",
   "id": "14fc0426-3936-4fb9-b44b-fa12173584ad",
   "metadata": {},
   "source": [
    "  ! [Imagen] (C:\\Users\\manue\\OneDrive\\Escritorio\\Imagen Portada.png)"
   ]
  },
  {
   "cell_type": "markdown",
   "id": "6056ae58",
   "metadata": {},
   "source": [
    "# Divorce Dataset\n",
    "\n",
    "\n"
   ]
  },
  {
   "cell_type": "markdown",
   "id": "9c96400f",
   "metadata": {},
   "source": [
    "Universidad Autonoma de Chihuahua\n",
    "Facultad de Ingenieria\n",
    "Ingenieria en Ciencias de la Computación\n",
    "\n",
    "Data Science\n",
    "\n",
    "Alumno. Manuel Alfonso Balderrama Chaparro\n",
    "Matricula. 330836"
   ]
  },
  {
   "cell_type": "code",
   "execution_count": 30,
   "id": "8547dad4-5766-468a-a0d8-51366a6d6cb6",
   "metadata": {},
   "outputs": [
    {
     "data": {
      "text/html": [
       "<div>\n",
       "<style scoped>\n",
       "    .dataframe tbody tr th:only-of-type {\n",
       "        vertical-align: middle;\n",
       "    }\n",
       "\n",
       "    .dataframe tbody tr th {\n",
       "        vertical-align: top;\n",
       "    }\n",
       "\n",
       "    .dataframe thead th {\n",
       "        text-align: right;\n",
       "    }\n",
       "</style>\n",
       "<table border=\"1\" class=\"dataframe\">\n",
       "  <thead>\n",
       "    <tr style=\"text-align: right;\">\n",
       "      <th></th>\n",
       "      <th>Atr1</th>\n",
       "      <th>Atr2</th>\n",
       "      <th>Atr3</th>\n",
       "      <th>Atr4</th>\n",
       "      <th>Atr5</th>\n",
       "      <th>Atr6</th>\n",
       "      <th>Atr7</th>\n",
       "      <th>Atr8</th>\n",
       "      <th>Atr9</th>\n",
       "      <th>Atr10</th>\n",
       "      <th>...</th>\n",
       "      <th>Atr46</th>\n",
       "      <th>Atr47</th>\n",
       "      <th>Atr48</th>\n",
       "      <th>Atr49</th>\n",
       "      <th>Atr50</th>\n",
       "      <th>Atr51</th>\n",
       "      <th>Atr52</th>\n",
       "      <th>Atr53</th>\n",
       "      <th>Atr54</th>\n",
       "      <th>Class</th>\n",
       "    </tr>\n",
       "  </thead>\n",
       "  <tbody>\n",
       "    <tr>\n",
       "      <th>0</th>\n",
       "      <td>2</td>\n",
       "      <td>2</td>\n",
       "      <td>4</td>\n",
       "      <td>1</td>\n",
       "      <td>0</td>\n",
       "      <td>0</td>\n",
       "      <td>0</td>\n",
       "      <td>0</td>\n",
       "      <td>0</td>\n",
       "      <td>0</td>\n",
       "      <td>...</td>\n",
       "      <td>2</td>\n",
       "      <td>1</td>\n",
       "      <td>3</td>\n",
       "      <td>3</td>\n",
       "      <td>3</td>\n",
       "      <td>2</td>\n",
       "      <td>3</td>\n",
       "      <td>2</td>\n",
       "      <td>1</td>\n",
       "      <td>1</td>\n",
       "    </tr>\n",
       "    <tr>\n",
       "      <th>1</th>\n",
       "      <td>4</td>\n",
       "      <td>4</td>\n",
       "      <td>4</td>\n",
       "      <td>4</td>\n",
       "      <td>4</td>\n",
       "      <td>0</td>\n",
       "      <td>0</td>\n",
       "      <td>4</td>\n",
       "      <td>4</td>\n",
       "      <td>4</td>\n",
       "      <td>...</td>\n",
       "      <td>2</td>\n",
       "      <td>2</td>\n",
       "      <td>3</td>\n",
       "      <td>4</td>\n",
       "      <td>4</td>\n",
       "      <td>4</td>\n",
       "      <td>4</td>\n",
       "      <td>2</td>\n",
       "      <td>2</td>\n",
       "      <td>1</td>\n",
       "    </tr>\n",
       "    <tr>\n",
       "      <th>2</th>\n",
       "      <td>2</td>\n",
       "      <td>2</td>\n",
       "      <td>2</td>\n",
       "      <td>2</td>\n",
       "      <td>1</td>\n",
       "      <td>3</td>\n",
       "      <td>2</td>\n",
       "      <td>1</td>\n",
       "      <td>1</td>\n",
       "      <td>2</td>\n",
       "      <td>...</td>\n",
       "      <td>3</td>\n",
       "      <td>2</td>\n",
       "      <td>3</td>\n",
       "      <td>1</td>\n",
       "      <td>1</td>\n",
       "      <td>1</td>\n",
       "      <td>2</td>\n",
       "      <td>2</td>\n",
       "      <td>2</td>\n",
       "      <td>1</td>\n",
       "    </tr>\n",
       "    <tr>\n",
       "      <th>3</th>\n",
       "      <td>3</td>\n",
       "      <td>2</td>\n",
       "      <td>3</td>\n",
       "      <td>2</td>\n",
       "      <td>3</td>\n",
       "      <td>3</td>\n",
       "      <td>3</td>\n",
       "      <td>3</td>\n",
       "      <td>3</td>\n",
       "      <td>3</td>\n",
       "      <td>...</td>\n",
       "      <td>2</td>\n",
       "      <td>2</td>\n",
       "      <td>3</td>\n",
       "      <td>3</td>\n",
       "      <td>3</td>\n",
       "      <td>3</td>\n",
       "      <td>2</td>\n",
       "      <td>2</td>\n",
       "      <td>2</td>\n",
       "      <td>1</td>\n",
       "    </tr>\n",
       "    <tr>\n",
       "      <th>4</th>\n",
       "      <td>2</td>\n",
       "      <td>2</td>\n",
       "      <td>1</td>\n",
       "      <td>1</td>\n",
       "      <td>1</td>\n",
       "      <td>1</td>\n",
       "      <td>0</td>\n",
       "      <td>0</td>\n",
       "      <td>0</td>\n",
       "      <td>0</td>\n",
       "      <td>...</td>\n",
       "      <td>2</td>\n",
       "      <td>1</td>\n",
       "      <td>2</td>\n",
       "      <td>3</td>\n",
       "      <td>2</td>\n",
       "      <td>2</td>\n",
       "      <td>2</td>\n",
       "      <td>1</td>\n",
       "      <td>0</td>\n",
       "      <td>1</td>\n",
       "    </tr>\n",
       "  </tbody>\n",
       "</table>\n",
       "<p>5 rows × 55 columns</p>\n",
       "</div>"
      ],
      "text/plain": [
       "   Atr1  Atr2  Atr3  Atr4  Atr5  Atr6  Atr7  Atr8  Atr9  Atr10  ...  Atr46  \\\n",
       "0     2     2     4     1     0     0     0     0     0      0  ...      2   \n",
       "1     4     4     4     4     4     0     0     4     4      4  ...      2   \n",
       "2     2     2     2     2     1     3     2     1     1      2  ...      3   \n",
       "3     3     2     3     2     3     3     3     3     3      3  ...      2   \n",
       "4     2     2     1     1     1     1     0     0     0      0  ...      2   \n",
       "\n",
       "   Atr47  Atr48  Atr49  Atr50  Atr51  Atr52  Atr53  Atr54  Class  \n",
       "0      1      3      3      3      2      3      2      1      1  \n",
       "1      2      3      4      4      4      4      2      2      1  \n",
       "2      2      3      1      1      1      2      2      2      1  \n",
       "3      2      3      3      3      3      2      2      2      1  \n",
       "4      1      2      3      2      2      2      1      0      1  \n",
       "\n",
       "[5 rows x 55 columns]"
      ]
     },
     "execution_count": 30,
     "metadata": {},
     "output_type": "execute_result"
    }
   ],
   "source": [
    "import numpy as np\n",
    "import pandas as pd\n",
    "\n",
    "archivo_csv = 'C:\\Data Science\\Divorce Dataset\\divorce.csv'\n",
    "\n",
    "df = pd.read_csv(archivo_csv)\n",
    "\n",
    "df.head()"
   ]
  },
  {
   "cell_type": "code",
   "execution_count": 31,
   "id": "8e6b4f18-1ce8-4065-9095-866ec52c07ba",
   "metadata": {},
   "outputs": [
    {
     "data": {
      "text/html": [
       "<div>\n",
       "<style scoped>\n",
       "    .dataframe tbody tr th:only-of-type {\n",
       "        vertical-align: middle;\n",
       "    }\n",
       "\n",
       "    .dataframe tbody tr th {\n",
       "        vertical-align: top;\n",
       "    }\n",
       "\n",
       "    .dataframe thead th {\n",
       "        text-align: right;\n",
       "    }\n",
       "</style>\n",
       "<table border=\"1\" class=\"dataframe\">\n",
       "  <thead>\n",
       "    <tr style=\"text-align: right;\">\n",
       "      <th></th>\n",
       "      <th>Atr1</th>\n",
       "      <th>Atr2</th>\n",
       "      <th>Atr3</th>\n",
       "      <th>Atr4</th>\n",
       "      <th>Atr5</th>\n",
       "      <th>Atr6</th>\n",
       "      <th>Atr7</th>\n",
       "      <th>Atr8</th>\n",
       "      <th>Atr9</th>\n",
       "      <th>Atr10</th>\n",
       "      <th>...</th>\n",
       "      <th>Atr46</th>\n",
       "      <th>Atr47</th>\n",
       "      <th>Atr48</th>\n",
       "      <th>Atr49</th>\n",
       "      <th>Atr50</th>\n",
       "      <th>Atr51</th>\n",
       "      <th>Atr52</th>\n",
       "      <th>Atr53</th>\n",
       "      <th>Atr54</th>\n",
       "      <th>Class</th>\n",
       "    </tr>\n",
       "  </thead>\n",
       "  <tbody>\n",
       "    <tr>\n",
       "      <th>count</th>\n",
       "      <td>170.000000</td>\n",
       "      <td>170.000000</td>\n",
       "      <td>170.000000</td>\n",
       "      <td>170.000000</td>\n",
       "      <td>170.000000</td>\n",
       "      <td>170.000000</td>\n",
       "      <td>170.000000</td>\n",
       "      <td>170.000000</td>\n",
       "      <td>170.000000</td>\n",
       "      <td>170.000000</td>\n",
       "      <td>...</td>\n",
       "      <td>170.000000</td>\n",
       "      <td>170.000000</td>\n",
       "      <td>170.000000</td>\n",
       "      <td>170.000000</td>\n",
       "      <td>170.000000</td>\n",
       "      <td>170.000000</td>\n",
       "      <td>170.000000</td>\n",
       "      <td>170.000000</td>\n",
       "      <td>170.000000</td>\n",
       "      <td>170.000000</td>\n",
       "    </tr>\n",
       "    <tr>\n",
       "      <th>mean</th>\n",
       "      <td>1.776471</td>\n",
       "      <td>1.652941</td>\n",
       "      <td>1.764706</td>\n",
       "      <td>1.482353</td>\n",
       "      <td>1.541176</td>\n",
       "      <td>0.747059</td>\n",
       "      <td>0.494118</td>\n",
       "      <td>1.452941</td>\n",
       "      <td>1.458824</td>\n",
       "      <td>1.576471</td>\n",
       "      <td>...</td>\n",
       "      <td>2.552941</td>\n",
       "      <td>2.270588</td>\n",
       "      <td>2.741176</td>\n",
       "      <td>2.382353</td>\n",
       "      <td>2.429412</td>\n",
       "      <td>2.476471</td>\n",
       "      <td>2.517647</td>\n",
       "      <td>2.241176</td>\n",
       "      <td>2.011765</td>\n",
       "      <td>0.494118</td>\n",
       "    </tr>\n",
       "    <tr>\n",
       "      <th>std</th>\n",
       "      <td>1.627257</td>\n",
       "      <td>1.468654</td>\n",
       "      <td>1.415444</td>\n",
       "      <td>1.504327</td>\n",
       "      <td>1.632169</td>\n",
       "      <td>0.904046</td>\n",
       "      <td>0.898698</td>\n",
       "      <td>1.546371</td>\n",
       "      <td>1.557976</td>\n",
       "      <td>1.421529</td>\n",
       "      <td>...</td>\n",
       "      <td>1.371786</td>\n",
       "      <td>1.586841</td>\n",
       "      <td>1.137348</td>\n",
       "      <td>1.511587</td>\n",
       "      <td>1.405090</td>\n",
       "      <td>1.260238</td>\n",
       "      <td>1.476537</td>\n",
       "      <td>1.505634</td>\n",
       "      <td>1.667611</td>\n",
       "      <td>0.501442</td>\n",
       "    </tr>\n",
       "    <tr>\n",
       "      <th>min</th>\n",
       "      <td>0.000000</td>\n",
       "      <td>0.000000</td>\n",
       "      <td>0.000000</td>\n",
       "      <td>0.000000</td>\n",
       "      <td>0.000000</td>\n",
       "      <td>0.000000</td>\n",
       "      <td>0.000000</td>\n",
       "      <td>0.000000</td>\n",
       "      <td>0.000000</td>\n",
       "      <td>0.000000</td>\n",
       "      <td>...</td>\n",
       "      <td>0.000000</td>\n",
       "      <td>0.000000</td>\n",
       "      <td>0.000000</td>\n",
       "      <td>0.000000</td>\n",
       "      <td>0.000000</td>\n",
       "      <td>0.000000</td>\n",
       "      <td>0.000000</td>\n",
       "      <td>0.000000</td>\n",
       "      <td>0.000000</td>\n",
       "      <td>0.000000</td>\n",
       "    </tr>\n",
       "    <tr>\n",
       "      <th>25%</th>\n",
       "      <td>0.000000</td>\n",
       "      <td>0.000000</td>\n",
       "      <td>0.000000</td>\n",
       "      <td>0.000000</td>\n",
       "      <td>0.000000</td>\n",
       "      <td>0.000000</td>\n",
       "      <td>0.000000</td>\n",
       "      <td>0.000000</td>\n",
       "      <td>0.000000</td>\n",
       "      <td>0.000000</td>\n",
       "      <td>...</td>\n",
       "      <td>2.000000</td>\n",
       "      <td>1.000000</td>\n",
       "      <td>2.000000</td>\n",
       "      <td>1.000000</td>\n",
       "      <td>1.000000</td>\n",
       "      <td>2.000000</td>\n",
       "      <td>1.000000</td>\n",
       "      <td>1.000000</td>\n",
       "      <td>0.000000</td>\n",
       "      <td>0.000000</td>\n",
       "    </tr>\n",
       "    <tr>\n",
       "      <th>50%</th>\n",
       "      <td>2.000000</td>\n",
       "      <td>2.000000</td>\n",
       "      <td>2.000000</td>\n",
       "      <td>1.000000</td>\n",
       "      <td>1.000000</td>\n",
       "      <td>0.000000</td>\n",
       "      <td>0.000000</td>\n",
       "      <td>1.000000</td>\n",
       "      <td>1.000000</td>\n",
       "      <td>2.000000</td>\n",
       "      <td>...</td>\n",
       "      <td>3.000000</td>\n",
       "      <td>2.000000</td>\n",
       "      <td>3.000000</td>\n",
       "      <td>3.000000</td>\n",
       "      <td>2.000000</td>\n",
       "      <td>3.000000</td>\n",
       "      <td>3.000000</td>\n",
       "      <td>2.000000</td>\n",
       "      <td>2.000000</td>\n",
       "      <td>0.000000</td>\n",
       "    </tr>\n",
       "    <tr>\n",
       "      <th>75%</th>\n",
       "      <td>3.000000</td>\n",
       "      <td>3.000000</td>\n",
       "      <td>3.000000</td>\n",
       "      <td>3.000000</td>\n",
       "      <td>3.000000</td>\n",
       "      <td>1.000000</td>\n",
       "      <td>1.000000</td>\n",
       "      <td>3.000000</td>\n",
       "      <td>3.000000</td>\n",
       "      <td>3.000000</td>\n",
       "      <td>...</td>\n",
       "      <td>4.000000</td>\n",
       "      <td>4.000000</td>\n",
       "      <td>4.000000</td>\n",
       "      <td>4.000000</td>\n",
       "      <td>4.000000</td>\n",
       "      <td>4.000000</td>\n",
       "      <td>4.000000</td>\n",
       "      <td>4.000000</td>\n",
       "      <td>4.000000</td>\n",
       "      <td>1.000000</td>\n",
       "    </tr>\n",
       "    <tr>\n",
       "      <th>max</th>\n",
       "      <td>4.000000</td>\n",
       "      <td>4.000000</td>\n",
       "      <td>4.000000</td>\n",
       "      <td>4.000000</td>\n",
       "      <td>4.000000</td>\n",
       "      <td>4.000000</td>\n",
       "      <td>4.000000</td>\n",
       "      <td>4.000000</td>\n",
       "      <td>4.000000</td>\n",
       "      <td>4.000000</td>\n",
       "      <td>...</td>\n",
       "      <td>4.000000</td>\n",
       "      <td>4.000000</td>\n",
       "      <td>4.000000</td>\n",
       "      <td>4.000000</td>\n",
       "      <td>4.000000</td>\n",
       "      <td>4.000000</td>\n",
       "      <td>4.000000</td>\n",
       "      <td>4.000000</td>\n",
       "      <td>4.000000</td>\n",
       "      <td>1.000000</td>\n",
       "    </tr>\n",
       "  </tbody>\n",
       "</table>\n",
       "<p>8 rows × 55 columns</p>\n",
       "</div>"
      ],
      "text/plain": [
       "             Atr1        Atr2        Atr3        Atr4        Atr5        Atr6  \\\n",
       "count  170.000000  170.000000  170.000000  170.000000  170.000000  170.000000   \n",
       "mean     1.776471    1.652941    1.764706    1.482353    1.541176    0.747059   \n",
       "std      1.627257    1.468654    1.415444    1.504327    1.632169    0.904046   \n",
       "min      0.000000    0.000000    0.000000    0.000000    0.000000    0.000000   \n",
       "25%      0.000000    0.000000    0.000000    0.000000    0.000000    0.000000   \n",
       "50%      2.000000    2.000000    2.000000    1.000000    1.000000    0.000000   \n",
       "75%      3.000000    3.000000    3.000000    3.000000    3.000000    1.000000   \n",
       "max      4.000000    4.000000    4.000000    4.000000    4.000000    4.000000   \n",
       "\n",
       "             Atr7        Atr8        Atr9       Atr10  ...       Atr46  \\\n",
       "count  170.000000  170.000000  170.000000  170.000000  ...  170.000000   \n",
       "mean     0.494118    1.452941    1.458824    1.576471  ...    2.552941   \n",
       "std      0.898698    1.546371    1.557976    1.421529  ...    1.371786   \n",
       "min      0.000000    0.000000    0.000000    0.000000  ...    0.000000   \n",
       "25%      0.000000    0.000000    0.000000    0.000000  ...    2.000000   \n",
       "50%      0.000000    1.000000    1.000000    2.000000  ...    3.000000   \n",
       "75%      1.000000    3.000000    3.000000    3.000000  ...    4.000000   \n",
       "max      4.000000    4.000000    4.000000    4.000000  ...    4.000000   \n",
       "\n",
       "            Atr47       Atr48       Atr49       Atr50       Atr51       Atr52  \\\n",
       "count  170.000000  170.000000  170.000000  170.000000  170.000000  170.000000   \n",
       "mean     2.270588    2.741176    2.382353    2.429412    2.476471    2.517647   \n",
       "std      1.586841    1.137348    1.511587    1.405090    1.260238    1.476537   \n",
       "min      0.000000    0.000000    0.000000    0.000000    0.000000    0.000000   \n",
       "25%      1.000000    2.000000    1.000000    1.000000    2.000000    1.000000   \n",
       "50%      2.000000    3.000000    3.000000    2.000000    3.000000    3.000000   \n",
       "75%      4.000000    4.000000    4.000000    4.000000    4.000000    4.000000   \n",
       "max      4.000000    4.000000    4.000000    4.000000    4.000000    4.000000   \n",
       "\n",
       "            Atr53       Atr54       Class  \n",
       "count  170.000000  170.000000  170.000000  \n",
       "mean     2.241176    2.011765    0.494118  \n",
       "std      1.505634    1.667611    0.501442  \n",
       "min      0.000000    0.000000    0.000000  \n",
       "25%      1.000000    0.000000    0.000000  \n",
       "50%      2.000000    2.000000    0.000000  \n",
       "75%      4.000000    4.000000    1.000000  \n",
       "max      4.000000    4.000000    1.000000  \n",
       "\n",
       "[8 rows x 55 columns]"
      ]
     },
     "execution_count": 31,
     "metadata": {},
     "output_type": "execute_result"
    }
   ],
   "source": [
    "df.describe()"
   ]
  },
  {
   "cell_type": "code",
   "execution_count": 32,
   "id": "fa3270fa-54eb-4e24-a843-73ace57d4302",
   "metadata": {},
   "outputs": [
    {
     "name": "stdout",
     "output_type": "stream",
     "text": [
      "<class 'pandas.core.frame.DataFrame'>\n",
      "RangeIndex: 170 entries, 0 to 169\n",
      "Data columns (total 55 columns):\n",
      " #   Column  Non-Null Count  Dtype\n",
      "---  ------  --------------  -----\n",
      " 0   Atr1    170 non-null    int64\n",
      " 1   Atr2    170 non-null    int64\n",
      " 2   Atr3    170 non-null    int64\n",
      " 3   Atr4    170 non-null    int64\n",
      " 4   Atr5    170 non-null    int64\n",
      " 5   Atr6    170 non-null    int64\n",
      " 6   Atr7    170 non-null    int64\n",
      " 7   Atr8    170 non-null    int64\n",
      " 8   Atr9    170 non-null    int64\n",
      " 9   Atr10   170 non-null    int64\n",
      " 10  Atr11   170 non-null    int64\n",
      " 11  Atr12   170 non-null    int64\n",
      " 12  Atr13   170 non-null    int64\n",
      " 13  Atr14   170 non-null    int64\n",
      " 14  Atr15   170 non-null    int64\n",
      " 15  Atr16   170 non-null    int64\n",
      " 16  Atr17   170 non-null    int64\n",
      " 17  Atr18   170 non-null    int64\n",
      " 18  Atr19   170 non-null    int64\n",
      " 19  Atr20   170 non-null    int64\n",
      " 20  Atr21   170 non-null    int64\n",
      " 21  Atr22   170 non-null    int64\n",
      " 22  Atr23   170 non-null    int64\n",
      " 23  Atr24   170 non-null    int64\n",
      " 24  Atr25   170 non-null    int64\n",
      " 25  Atr26   170 non-null    int64\n",
      " 26  Atr27   170 non-null    int64\n",
      " 27  Atr28   170 non-null    int64\n",
      " 28  Atr29   170 non-null    int64\n",
      " 29  Atr30   170 non-null    int64\n",
      " 30  Atr31   170 non-null    int64\n",
      " 31  Atr32   170 non-null    int64\n",
      " 32  Atr33   170 non-null    int64\n",
      " 33  Atr34   170 non-null    int64\n",
      " 34  Atr35   170 non-null    int64\n",
      " 35  Atr36   170 non-null    int64\n",
      " 36  Atr37   170 non-null    int64\n",
      " 37  Atr38   170 non-null    int64\n",
      " 38  Atr39   170 non-null    int64\n",
      " 39  Atr40   170 non-null    int64\n",
      " 40  Atr41   170 non-null    int64\n",
      " 41  Atr42   170 non-null    int64\n",
      " 42  Atr43   170 non-null    int64\n",
      " 43  Atr44   170 non-null    int64\n",
      " 44  Atr45   170 non-null    int64\n",
      " 45  Atr46   170 non-null    int64\n",
      " 46  Atr47   170 non-null    int64\n",
      " 47  Atr48   170 non-null    int64\n",
      " 48  Atr49   170 non-null    int64\n",
      " 49  Atr50   170 non-null    int64\n",
      " 50  Atr51   170 non-null    int64\n",
      " 51  Atr52   170 non-null    int64\n",
      " 52  Atr53   170 non-null    int64\n",
      " 53  Atr54   170 non-null    int64\n",
      " 54  Class   170 non-null    int64\n",
      "dtypes: int64(55)\n",
      "memory usage: 73.2 KB\n"
     ]
    }
   ],
   "source": [
    "df.info()"
   ]
  },
  {
   "cell_type": "code",
   "execution_count": 33,
   "id": "2093237d-a37b-4c43-a53d-35232da78919",
   "metadata": {},
   "outputs": [
    {
     "data": {
      "image/png": "[encoded data removed]",
      "text/plain": [
       "<Figure size 640x480 with 1 Axes>"
      ]
     },
     "metadata": {},
     "output_type": "display_data"
    }
   ],
   "source": [
    "import matplotlib.pyplot as plt\n",
    "\n",
    "# Vemos que tan balanceado está el dataset con respecto al target\n",
    "dataset_target = df['Class'].value_counts()\n",
    "\n",
    "plt.pie(dataset_target, labels=dataset_target.index, autopct='%1.1f%%')\n",
    "plt.title('Porcentaje de cada Categoría del Target')\n",
    "plt.show()"
   ]
  },
  {
   "cell_type": "code",
   "execution_count": 34,
   "id": "5a2241c9-648b-4610-bb4e-d494e825c20e",
   "metadata": {},
   "outputs": [
    {
     "name": "stdout",
     "output_type": "stream",
     "text": [
      "0      1\n",
      "1      1\n",
      "2      1\n",
      "3      1\n",
      "4      1\n",
      "      ..\n",
      "165    0\n",
      "166    0\n",
      "167    0\n",
      "168    0\n",
      "169    0\n",
      "Name: Class, Length: 170, dtype: int64\n"
     ]
    }
   ],
   "source": [
    "# Preprocesamiento de los datos\n",
    "from sklearn.preprocessing import LabelEncoder\n",
    "\n",
    "# Codificamos las variables categóricas del Target\n",
    "cat_encoder = LabelEncoder()\n",
    "df['Class'] = cat_encoder.fit_transform(df['Class'].values.reshape(-1))\n",
    "\n",
    "# Imprimimos el resultado de la codificación\n",
    "print(df['Class'])\n",
    "\n",
    "# 0: divorce, 1: married"
   ]
  },
  {
   "cell_type": "code",
   "execution_count": 35,
   "id": "0bd8a69d-1d63-448d-87ed-dd00ae84a6bd",
   "metadata": {},
   "outputs": [
    {
     "name": "stdout",
     "output_type": "stream",
     "text": [
      "(136, 54)\n",
      "(136,)\n",
      "(34, 54)\n",
      "(34,)\n"
     ]
    }
   ],
   "source": [
    "from sklearn.model_selection import StratifiedShuffleSplit\n",
    " \n",
    "# Division de train  y test con StratifiedShuffleSplit\n",
    "split = StratifiedShuffleSplit(n_splits=1, test_size=0.2, random_state=42)\n",
    "for train_index, test_index in split.split(df, df['Class']):\n",
    "    strat_train_set = df.loc[train_index]\n",
    "    strat_test_set = df.loc[test_index]\n",
    "\n",
    "# Se divide el dataset en X y Y\n",
    "X_train = strat_train_set.drop('Class', axis=1)\n",
    "y_train = strat_train_set['Class'].copy()\n",
    "X_test = strat_test_set.drop('Class', axis=1)\n",
    "y_test = strat_test_set['Class'].copy()\n",
    "\n",
    "print(X_train.shape)\n",
    "print(y_train.shape)\n",
    "print(X_test.shape)\n",
    "print(y_test.shape)\n"
   ]
  },
  {
   "cell_type": "code",
   "execution_count": 36,
   "id": "02fe981e-7719-469a-9186-b700b8afc7c2",
   "metadata": {},
   "outputs": [
    {
     "data": {
      "text/plain": [
       "Class    1.000000\n",
       "Atr40    0.938684\n",
       "Atr17    0.929346\n",
       "Atr19    0.928627\n",
       "Atr18    0.923208\n",
       "Atr11    0.918386\n",
       "Atr9     0.912368\n",
       "Atr20    0.907008\n",
       "Atr15    0.901220\n",
       "Atr39    0.896180\n",
       "Atr41    0.894356\n",
       "Atr5     0.893180\n",
       "Atr29    0.892954\n",
       "Atr36    0.886497\n",
       "Atr16    0.886260\n",
       "Atr38    0.883311\n",
       "Atr30    0.874531\n",
       "Atr26    0.872868\n",
       "Atr27    0.869788\n",
       "Atr8     0.869569\n",
       "Atr12    0.868983\n",
       "Atr21    0.864519\n",
       "Atr14    0.864316\n",
       "Atr37    0.863597\n",
       "Atr35    0.862624\n",
       "Atr33    0.861328\n",
       "Atr1     0.861324\n",
       "Atr25    0.857052\n",
       "Atr44    0.847336\n",
       "Atr28    0.846606\n",
       "Atr13    0.844743\n",
       "Atr24    0.839392\n",
       "Atr23    0.837504\n",
       "Atr34    0.835167\n",
       "Atr10    0.834897\n",
       "Atr32    0.829056\n",
       "Atr22    0.825938\n",
       "Atr2     0.820774\n",
       "Atr4     0.819583\n",
       "Atr54    0.806765\n",
       "Atr3     0.806709\n",
       "Atr31    0.792607\n",
       "Atr50    0.755248\n",
       "Atr49    0.740704\n",
       "Atr42    0.739629\n",
       "Atr53    0.711176\n",
       "Atr51    0.692681\n",
       "Atr47    0.656409\n",
       "Atr52    0.651478\n",
       "Atr48    0.619830\n",
       "Atr43    0.566242\n",
       "Atr45    0.546450\n",
       "Atr7     0.544835\n",
       "Atr46    0.443465\n",
       "Atr6     0.420913\n",
       "Name: Class, dtype: float64"
      ]
     },
     "execution_count": 36,
     "metadata": {},
     "output_type": "execute_result"
    }
   ],
   "source": [
    "# Matriz de correlación \n",
    "corr_matrix = df.corr()\n",
    "\n",
    "corr_matrix['Class'].sort_values(ascending=False)"
   ]
  },
  {
   "cell_type": "code",
   "execution_count": 37,
   "id": "48be565f-fa73-476f-b751-b656ca83b065",
   "metadata": {},
   "outputs": [
    {
     "data": {
      "text/plain": [
       "array([[<Axes: xlabel='Class', ylabel='Class'>,\n",
       "        <Axes: xlabel='Atr1', ylabel='Class'>,\n",
       "        <Axes: xlabel='Atr2', ylabel='Class'>,\n",
       "        <Axes: xlabel='Atr5', ylabel='Class'>,\n",
       "        <Axes: xlabel='Atr10', ylabel='Class'>,\n",
       "        <Axes: xlabel='Atr14', ylabel='Class'>,\n",
       "        <Axes: xlabel='Atr21', ylabel='Class'>,\n",
       "        <Axes: xlabel='Atr29', ylabel='Class'>,\n",
       "        <Axes: xlabel='Atr37', ylabel='Class'>,\n",
       "        <Axes: xlabel='Atr44', ylabel='Class'>,\n",
       "        <Axes: xlabel='Atr27', ylabel='Class'>,\n",
       "        <Axes: xlabel='Atr26', ylabel='Class'>],\n",
       "       [<Axes: xlabel='Class', ylabel='Atr1'>,\n",
       "        <Axes: xlabel='Atr1', ylabel='Atr1'>,\n",
       "        <Axes: xlabel='Atr2', ylabel='Atr1'>,\n",
       "        <Axes: xlabel='Atr5', ylabel='Atr1'>,\n",
       "        <Axes: xlabel='Atr10', ylabel='Atr1'>,\n",
       "        <Axes: xlabel='Atr14', ylabel='Atr1'>,\n",
       "        <Axes: xlabel='Atr21', ylabel='Atr1'>,\n",
       "        <Axes: xlabel='Atr29', ylabel='Atr1'>,\n",
       "        <Axes: xlabel='Atr37', ylabel='Atr1'>,\n",
       "        <Axes: xlabel='Atr44', ylabel='Atr1'>,\n",
       "        <Axes: xlabel='Atr27', ylabel='Atr1'>,\n",
       "        <Axes: xlabel='Atr26', ylabel='Atr1'>],\n",
       "       [<Axes: xlabel='Class', ylabel='Atr2'>,\n",
       "        <Axes: xlabel='Atr1', ylabel='Atr2'>,\n",
       "        <Axes: xlabel='Atr2', ylabel='Atr2'>,\n",
       "        <Axes: xlabel='Atr5', ylabel='Atr2'>,\n",
       "        <Axes: xlabel='Atr10', ylabel='Atr2'>,\n",
       "        <Axes: xlabel='Atr14', ylabel='Atr2'>,\n",
       "        <Axes: xlabel='Atr21', ylabel='Atr2'>,\n",
       "        <Axes: xlabel='Atr29', ylabel='Atr2'>,\n",
       "        <Axes: xlabel='Atr37', ylabel='Atr2'>,\n",
       "        <Axes: xlabel='Atr44', ylabel='Atr2'>,\n",
       "        <Axes: xlabel='Atr27', ylabel='Atr2'>,\n",
       "        <Axes: xlabel='Atr26', ylabel='Atr2'>],\n",
       "       [<Axes: xlabel='Class', ylabel='Atr5'>,\n",
       "        <Axes: xlabel='Atr1', ylabel='Atr5'>,\n",
       "        <Axes: xlabel='Atr2', ylabel='Atr5'>,\n",
       "        <Axes: xlabel='Atr5', ylabel='Atr5'>,\n",
       "        <Axes: xlabel='Atr10', ylabel='Atr5'>,\n",
       "        <Axes: xlabel='Atr14', ylabel='Atr5'>,\n",
       "        <Axes: xlabel='Atr21', ylabel='Atr5'>,\n",
       "        <Axes: xlabel='Atr29', ylabel='Atr5'>,\n",
       "        <Axes: xlabel='Atr37', ylabel='Atr5'>,\n",
       "        <Axes: xlabel='Atr44', ylabel='Atr5'>,\n",
       "        <Axes: xlabel='Atr27', ylabel='Atr5'>,\n",
       "        <Axes: xlabel='Atr26', ylabel='Atr5'>],\n",
       "       [<Axes: xlabel='Class', ylabel='Atr10'>,\n",
       "        <Axes: xlabel='Atr1', ylabel='Atr10'>,\n",
       "        <Axes: xlabel='Atr2', ylabel='Atr10'>,\n",
       "        <Axes: xlabel='Atr5', ylabel='Atr10'>,\n",
       "        <Axes: xlabel='Atr10', ylabel='Atr10'>,\n",
       "        <Axes: xlabel='Atr14', ylabel='Atr10'>,\n",
       "        <Axes: xlabel='Atr21', ylabel='Atr10'>,\n",
       "        <Axes: xlabel='Atr29', ylabel='Atr10'>,\n",
       "        <Axes: xlabel='Atr37', ylabel='Atr10'>,\n",
       "        <Axes: xlabel='Atr44', ylabel='Atr10'>,\n",
       "        <Axes: xlabel='Atr27', ylabel='Atr10'>,\n",
       "        <Axes: xlabel='Atr26', ylabel='Atr10'>],\n",
       "       [<Axes: xlabel='Class', ylabel='Atr14'>,\n",
       "        <Axes: xlabel='Atr1', ylabel='Atr14'>,\n",
       "        <Axes: xlabel='Atr2', ylabel='Atr14'>,\n",
       "        <Axes: xlabel='Atr5', ylabel='Atr14'>,\n",
       "        <Axes: xlabel='Atr10', ylabel='Atr14'>,\n",
       "        <Axes: xlabel='Atr14', ylabel='Atr14'>,\n",
       "        <Axes: xlabel='Atr21', ylabel='Atr14'>,\n",
       "        <Axes: xlabel='Atr29', ylabel='Atr14'>,\n",
       "        <Axes: xlabel='Atr37', ylabel='Atr14'>,\n",
       "        <Axes: xlabel='Atr44', ylabel='Atr14'>,\n",
       "        <Axes: xlabel='Atr27', ylabel='Atr14'>,\n",
       "        <Axes: xlabel='Atr26', ylabel='Atr14'>],\n",
       "       [<Axes: xlabel='Class', ylabel='Atr21'>,\n",
       "        <Axes: xlabel='Atr1', ylabel='Atr21'>,\n",
       "        <Axes: xlabel='Atr2', ylabel='Atr21'>,\n",
       "        <Axes: xlabel='Atr5', ylabel='Atr21'>,\n",
       "        <Axes: xlabel='Atr10', ylabel='Atr21'>,\n",
       "        <Axes: xlabel='Atr14', ylabel='Atr21'>,\n",
       "        <Axes: xlabel='Atr21', ylabel='Atr21'>,\n",
       "        <Axes: xlabel='Atr29', ylabel='Atr21'>,\n",
       "        <Axes: xlabel='Atr37', ylabel='Atr21'>,\n",
       "        <Axes: xlabel='Atr44', ylabel='Atr21'>,\n",
       "        <Axes: xlabel='Atr27', ylabel='Atr21'>,\n",
       "        <Axes: xlabel='Atr26', ylabel='Atr21'>],\n",
       "       [<Axes: xlabel='Class', ylabel='Atr29'>,\n",
       "        <Axes: xlabel='Atr1', ylabel='Atr29'>,\n",
       "        <Axes: xlabel='Atr2', ylabel='Atr29'>,\n",
       "        <Axes: xlabel='Atr5', ylabel='Atr29'>,\n",
       "        <Axes: xlabel='Atr10', ylabel='Atr29'>,\n",
       "        <Axes: xlabel='Atr14', ylabel='Atr29'>,\n",
       "        <Axes: xlabel='Atr21', ylabel='Atr29'>,\n",
       "        <Axes: xlabel='Atr29', ylabel='Atr29'>,\n",
       "        <Axes: xlabel='Atr37', ylabel='Atr29'>,\n",
       "        <Axes: xlabel='Atr44', ylabel='Atr29'>,\n",
       "        <Axes: xlabel='Atr27', ylabel='Atr29'>,\n",
       "        <Axes: xlabel='Atr26', ylabel='Atr29'>],\n",
       "       [<Axes: xlabel='Class', ylabel='Atr37'>,\n",
       "        <Axes: xlabel='Atr1', ylabel='Atr37'>,\n",
       "        <Axes: xlabel='Atr2', ylabel='Atr37'>,\n",
       "        <Axes: xlabel='Atr5', ylabel='Atr37'>,\n",
       "        <Axes: xlabel='Atr10', ylabel='Atr37'>,\n",
       "        <Axes: xlabel='Atr14', ylabel='Atr37'>,\n",
       "        <Axes: xlabel='Atr21', ylabel='Atr37'>,\n",
       "        <Axes: xlabel='Atr29', ylabel='Atr37'>,\n",
       "        <Axes: xlabel='Atr37', ylabel='Atr37'>,\n",
       "        <Axes: xlabel='Atr44', ylabel='Atr37'>,\n",
       "        <Axes: xlabel='Atr27', ylabel='Atr37'>,\n",
       "        <Axes: xlabel='Atr26', ylabel='Atr37'>],\n",
       "       [<Axes: xlabel='Class', ylabel='Atr44'>,\n",
       "        <Axes: xlabel='Atr1', ylabel='Atr44'>,\n",
       "        <Axes: xlabel='Atr2', ylabel='Atr44'>,\n",
       "        <Axes: xlabel='Atr5', ylabel='Atr44'>,\n",
       "        <Axes: xlabel='Atr10', ylabel='Atr44'>,\n",
       "        <Axes: xlabel='Atr14', ylabel='Atr44'>,\n",
       "        <Axes: xlabel='Atr21', ylabel='Atr44'>,\n",
       "        <Axes: xlabel='Atr29', ylabel='Atr44'>,\n",
       "        <Axes: xlabel='Atr37', ylabel='Atr44'>,\n",
       "        <Axes: xlabel='Atr44', ylabel='Atr44'>,\n",
       "        <Axes: xlabel='Atr27', ylabel='Atr44'>,\n",
       "        <Axes: xlabel='Atr26', ylabel='Atr44'>],\n",
       "       [<Axes: xlabel='Class', ylabel='Atr27'>,\n",
       "        <Axes: xlabel='Atr1', ylabel='Atr27'>,\n",
       "        <Axes: xlabel='Atr2', ylabel='Atr27'>,\n",
       "        <Axes: xlabel='Atr5', ylabel='Atr27'>,\n",
       "        <Axes: xlabel='Atr10', ylabel='Atr27'>,\n",
       "        <Axes: xlabel='Atr14', ylabel='Atr27'>,\n",
       "        <Axes: xlabel='Atr21', ylabel='Atr27'>,\n",
       "        <Axes: xlabel='Atr29', ylabel='Atr27'>,\n",
       "        <Axes: xlabel='Atr37', ylabel='Atr27'>,\n",
       "        <Axes: xlabel='Atr44', ylabel='Atr27'>,\n",
       "        <Axes: xlabel='Atr27', ylabel='Atr27'>,\n",
       "        <Axes: xlabel='Atr26', ylabel='Atr27'>],\n",
       "       [<Axes: xlabel='Class', ylabel='Atr26'>,\n",
       "        <Axes: xlabel='Atr1', ylabel='Atr26'>,\n",
       "        <Axes: xlabel='Atr2', ylabel='Atr26'>,\n",
       "        <Axes: xlabel='Atr5', ylabel='Atr26'>,\n",
       "        <Axes: xlabel='Atr10', ylabel='Atr26'>,\n",
       "        <Axes: xlabel='Atr14', ylabel='Atr26'>,\n",
       "        <Axes: xlabel='Atr21', ylabel='Atr26'>,\n",
       "        <Axes: xlabel='Atr29', ylabel='Atr26'>,\n",
       "        <Axes: xlabel='Atr37', ylabel='Atr26'>,\n",
       "        <Axes: xlabel='Atr44', ylabel='Atr26'>,\n",
       "        <Axes: xlabel='Atr27', ylabel='Atr26'>,\n",
       "        <Axes: xlabel='Atr26', ylabel='Atr26'>]], dtype=object)"
      ]
     },
     "execution_count": 37,
     "metadata": {},
     "output_type": "execute_result"
    },
    {
     "data": {
      "image/png": "[encoded data removed]",
      "text/plain": [
       "<Figure size 1200x900 with 144 Axes>"
      ]
     },
     "metadata": {},
     "output_type": "display_data"
    }
   ],
   "source": [
    "from pandas.plotting import scatter_matrix\n",
    "\n",
    "#attributes = [\n",
    " #   \"Class\", \"Atr40\", \"Atr17\", \"Atr19\", \"Atr18\", \"Atr11\", \"Atr9\", \"Atr20\", \"Atr15\", \"Atr39\", \"Atr41\", \"Atr5\", \"Atr29\", \"Atr36\", \"Atr16\", \"Atr38\", \"Atr30\", \"Atr26\", \"Atr27\", \"Atr8\", \"Atr12\", \"Atr21\", \"Atr14\", \"Atr37\", \"Atr35\", \"Atr33\", \"Atr1\", \"Atr25\", \"Atr44\",\n",
    "  #  \"Atr28\", \"Atr13\", \"Atr24\", \"Atr23\", \"Atr34\", \"Atr10\", \"Atr32\", \"Atr22\", \"Atr2\", \"Atr4\", \"Atr54\", \"Atr3\", \"Atr31\", \"Atr50\", \"Atr49\", \"Atr42\", \"Atr53\", \"Atr51\", \"Atr47\", \"Atr52\", \"Atr48\",  \"Atr43\", \"Atr45\", \"Atr7\", \"Atr46\", \"Atr6\"\n",
    "#]\n",
    "\n",
    "# Se consideran la mayor correlacion entre los atributos para una mejor aproximacion, aunque no tan precisa\n",
    "attributes = [ \"Class\", \"Atr1\", \"Atr2\", \"Atr5\", \"Atr10\", \"Atr14\", \"Atr21\", \"Atr29\", \"Atr37\", \"Atr44\", \"Atr27\", \"Atr26\"]\n",
    "\n",
    "scatter_matrix(df[attributes], figsize=(12, 9))"
   ]
  },
  {
   "cell_type": "markdown",
   "id": "9d6ba6c4",
   "metadata": {},
   "source": [
    "# SVM "
   ]
  },
  {
   "cell_type": "code",
   "execution_count": 38,
   "id": "abeabab4-2e33-4ed0-b6ef-104a721c6d05",
   "metadata": {},
   "outputs": [
    {
     "name": "stdout",
     "output_type": "stream",
     "text": [
      "Fitting 5 folds for each of 10 candidates, totalling 50 fits\n"
     ]
    },
    {
     "data": {
      "text/html": [
       "<style>#sk-container-id-4 {color: black;}#sk-container-id-4 pre{padding: 0;}#sk-container-id-4 div.sk-toggleable {background-color: white;}#sk-container-id-4 label.sk-toggleable__label {cursor: pointer;display: block;width: 100%;margin-bottom: 0;padding: 0.3em;box-sizing: border-box;text-align: center;}#sk-container-id-4 label.sk-toggleable__label-arrow:before {content: \"▸\";float: left;margin-right: 0.25em;color: #696969;}#sk-container-id-4 label.sk-toggleable__label-arrow:hover:before {color: black;}#sk-container-id-4 div.sk-estimator:hover label.sk-toggleable__label-arrow:before {color: black;}#sk-container-id-4 div.sk-toggleable__content {max-height: 0;max-width: 0;overflow: hidden;text-align: left;background-color: #f0f8ff;}#sk-container-id-4 div.sk-toggleable__content pre {margin: 0.2em;color: black;border-radius: 0.25em;background-color: #f0f8ff;}#sk-container-id-4 input.sk-toggleable__control:checked~div.sk-toggleable__content {max-height: 200px;max-width: 100%;overflow: auto;}#sk-container-id-4 input.sk-toggleable__control:checked~label.sk-toggleable__label-arrow:before {content: \"▾\";}#sk-container-id-4 div.sk-estimator input.sk-toggleable__control:checked~label.sk-toggleable__label {background-color: #d4ebff;}#sk-container-id-4 div.sk-label input.sk-toggleable__control:checked~label.sk-toggleable__label {background-color: #d4ebff;}#sk-container-id-4 input.sk-hidden--visually {border: 0;clip: rect(1px 1px 1px 1px);clip: rect(1px, 1px, 1px, 1px);height: 1px;margin: -1px;overflow: hidden;padding: 0;position: absolute;width: 1px;}#sk-container-id-4 div.sk-estimator {font-family: monospace;background-color: #f0f8ff;border: 1px dotted black;border-radius: 0.25em;box-sizing: border-box;margin-bottom: 0.5em;}#sk-container-id-4 div.sk-estimator:hover {background-color: #d4ebff;}#sk-container-id-4 div.sk-parallel-item::after {content: \"\";width: 100%;border-bottom: 1px solid gray;flex-grow: 1;}#sk-container-id-4 div.sk-label:hover label.sk-toggleable__label {background-color: #d4ebff;}#sk-container-id-4 div.sk-serial::before {content: \"\";position: absolute;border-left: 1px solid gray;box-sizing: border-box;top: 0;bottom: 0;left: 50%;z-index: 0;}#sk-container-id-4 div.sk-serial {display: flex;flex-direction: column;align-items: center;background-color: white;padding-right: 0.2em;padding-left: 0.2em;position: relative;}#sk-container-id-4 div.sk-item {position: relative;z-index: 1;}#sk-container-id-4 div.sk-parallel {display: flex;align-items: stretch;justify-content: center;background-color: white;position: relative;}#sk-container-id-4 div.sk-item::before, #sk-container-id-4 div.sk-parallel-item::before {content: \"\";position: absolute;border-left: 1px solid gray;box-sizing: border-box;top: 0;bottom: 0;left: 50%;z-index: -1;}#sk-container-id-4 div.sk-parallel-item {display: flex;flex-direction: column;z-index: 1;position: relative;background-color: white;}#sk-container-id-4 div.sk-parallel-item:first-child::after {align-self: flex-end;width: 50%;}#sk-container-id-4 div.sk-parallel-item:last-child::after {align-self: flex-start;width: 50%;}#sk-container-id-4 div.sk-parallel-item:only-child::after {width: 0;}#sk-container-id-4 div.sk-dashed-wrapped {border: 1px dashed gray;margin: 0 0.4em 0.5em 0.4em;box-sizing: border-box;padding-bottom: 0.4em;background-color: white;}#sk-container-id-4 div.sk-label label {font-family: monospace;font-weight: bold;display: inline-block;line-height: 1.2em;}#sk-container-id-4 div.sk-label-container {text-align: center;}#sk-container-id-4 div.sk-container {/* jupyter's `normalize.less` sets `[hidden] { display: none; }` but bootstrap.min.css set `[hidden] { display: none !important; }` so we also need the `!important` here to be able to override the default hidden behavior on the sphinx rendered scikit-learn.org. See: https://github.com/scikit-learn/scikit-learn/issues/21755 */display: inline-block !important;position: relative;}#sk-container-id-4 div.sk-text-repr-fallback {display: none;}</style><div id=\"sk-container-id-4\" class=\"sk-top-container\"><div class=\"sk-text-repr-fallback\"><pre>RandomizedSearchCV(cv=5,\n",
       "                   estimator=Pipeline(steps=[(&#x27;scaler&#x27;, StandardScaler()),\n",
       "                                             (&#x27;svm_clf&#x27;, SVC())]),\n",
       "                   n_jobs=-1,\n",
       "                   param_distributions=[{&#x27;svm_clf__C&#x27;: [0.1, 1, 10, 100, 1000],\n",
       "                                         &#x27;svm_clf__kernel&#x27;: [&#x27;linear&#x27;],\n",
       "                                         &#x27;svm_clf__probability&#x27;: [True]},\n",
       "                                        {&#x27;svm_clf__C&#x27;: [0.1, 1, 10, 100, 1000],\n",
       "                                         &#x27;svm_clf__gamma&#x27;: [0.001, 0.0001],\n",
       "                                         &#x27;svm_clf__kernel&#x27;: [&#x27;rbf&#x27;],\n",
       "                                         &#x27;svm_clf__probability&#x27;: [True]},\n",
       "                                        {&#x27;svm_clf__C&#x27;: [0.1, 1, 10, 100, 1000],\n",
       "                                         &#x27;svm_clf__degree&#x27;: [2, 3],\n",
       "                                         &#x27;svm_clf__gamma&#x27;: [0.001, 0.0001],\n",
       "                                         &#x27;svm_clf__kernel&#x27;: [&#x27;poly&#x27;],\n",
       "                                         &#x27;svm_clf__probability&#x27;: [True]}],\n",
       "                   random_state=42, scoring=&#x27;accuracy&#x27;, verbose=True)</pre><b>In a Jupyter environment, please rerun this cell to show the HTML representation or trust the notebook. <br />On GitHub, the HTML representation is unable to render, please try loading this page with nbviewer.org.</b></div><div class=\"sk-container\" hidden><div class=\"sk-item sk-dashed-wrapped\"><div class=\"sk-label-container\"><div class=\"sk-label sk-toggleable\"><input class=\"sk-toggleable__control sk-hidden--visually\" id=\"sk-estimator-id-11\" type=\"checkbox\" ><label for=\"sk-estimator-id-11\" class=\"sk-toggleable__label sk-toggleable__label-arrow\">RandomizedSearchCV</label><div class=\"sk-toggleable__content\"><pre>RandomizedSearchCV(cv=5,\n",
       "                   estimator=Pipeline(steps=[(&#x27;scaler&#x27;, StandardScaler()),\n",
       "                                             (&#x27;svm_clf&#x27;, SVC())]),\n",
       "                   n_jobs=-1,\n",
       "                   param_distributions=[{&#x27;svm_clf__C&#x27;: [0.1, 1, 10, 100, 1000],\n",
       "                                         &#x27;svm_clf__kernel&#x27;: [&#x27;linear&#x27;],\n",
       "                                         &#x27;svm_clf__probability&#x27;: [True]},\n",
       "                                        {&#x27;svm_clf__C&#x27;: [0.1, 1, 10, 100, 1000],\n",
       "                                         &#x27;svm_clf__gamma&#x27;: [0.001, 0.0001],\n",
       "                                         &#x27;svm_clf__kernel&#x27;: [&#x27;rbf&#x27;],\n",
       "                                         &#x27;svm_clf__probability&#x27;: [True]},\n",
       "                                        {&#x27;svm_clf__C&#x27;: [0.1, 1, 10, 100, 1000],\n",
       "                                         &#x27;svm_clf__degree&#x27;: [2, 3],\n",
       "                                         &#x27;svm_clf__gamma&#x27;: [0.001, 0.0001],\n",
       "                                         &#x27;svm_clf__kernel&#x27;: [&#x27;poly&#x27;],\n",
       "                                         &#x27;svm_clf__probability&#x27;: [True]}],\n",
       "                   random_state=42, scoring=&#x27;accuracy&#x27;, verbose=True)</pre></div></div></div><div class=\"sk-parallel\"><div class=\"sk-parallel-item\"><div class=\"sk-item\"><div class=\"sk-label-container\"><div class=\"sk-label sk-toggleable\"><input class=\"sk-toggleable__control sk-hidden--visually\" id=\"sk-estimator-id-12\" type=\"checkbox\" ><label for=\"sk-estimator-id-12\" class=\"sk-toggleable__label sk-toggleable__label-arrow\">estimator: Pipeline</label><div class=\"sk-toggleable__content\"><pre>Pipeline(steps=[(&#x27;scaler&#x27;, StandardScaler()), (&#x27;svm_clf&#x27;, SVC())])</pre></div></div></div><div class=\"sk-serial\"><div class=\"sk-item\"><div class=\"sk-serial\"><div class=\"sk-item\"><div class=\"sk-estimator sk-toggleable\"><input class=\"sk-toggleable__control sk-hidden--visually\" id=\"sk-estimator-id-13\" type=\"checkbox\" ><label for=\"sk-estimator-id-13\" class=\"sk-toggleable__label sk-toggleable__label-arrow\">StandardScaler</label><div class=\"sk-toggleable__content\"><pre>StandardScaler()</pre></div></div></div><div class=\"sk-item\"><div class=\"sk-estimator sk-toggleable\"><input class=\"sk-toggleable__control sk-hidden--visually\" id=\"sk-estimator-id-14\" type=\"checkbox\" ><label for=\"sk-estimator-id-14\" class=\"sk-toggleable__label sk-toggleable__label-arrow\">SVC</label><div class=\"sk-toggleable__content\"><pre>SVC()</pre></div></div></div></div></div></div></div></div></div></div></div></div>"
      ],
      "text/plain": [
       "RandomizedSearchCV(cv=5,\n",
       "                   estimator=Pipeline(steps=[('scaler', StandardScaler()),\n",
       "                                             ('svm_clf', SVC())]),\n",
       "                   n_jobs=-1,\n",
       "                   param_distributions=[{'svm_clf__C': [0.1, 1, 10, 100, 1000],\n",
       "                                         'svm_clf__kernel': ['linear'],\n",
       "                                         'svm_clf__probability': [True]},\n",
       "                                        {'svm_clf__C': [0.1, 1, 10, 100, 1000],\n",
       "                                         'svm_clf__gamma': [0.001, 0.0001],\n",
       "                                         'svm_clf__kernel': ['rbf'],\n",
       "                                         'svm_clf__probability': [True]},\n",
       "                                        {'svm_clf__C': [0.1, 1, 10, 100, 1000],\n",
       "                                         'svm_clf__degree': [2, 3],\n",
       "                                         'svm_clf__gamma': [0.001, 0.0001],\n",
       "                                         'svm_clf__kernel': ['poly'],\n",
       "                                         'svm_clf__probability': [True]}],\n",
       "                   random_state=42, scoring='accuracy', verbose=True)"
      ]
     },
     "execution_count": 38,
     "metadata": {},
     "output_type": "execute_result"
    }
   ],
   "source": [
    "# SVM\n",
    "from sklearn.model_selection import RandomizedSearchCV\n",
    "from sklearn.pipeline import Pipeline\n",
    "from sklearn.preprocessing import StandardScaler\n",
    "from sklearn.svm import SVC\n",
    "\n",
    "svm_clf = SVC()\n",
    "\n",
    "svm_clf_pipeline = Pipeline([\n",
    "    (\"scaler\", StandardScaler()),\n",
    "    (\"svm_clf\", svm_clf)\n",
    "])\n",
    "\n",
    "# Parametros para el clasificador\n",
    "param_grid = [\n",
    "    {'svm_clf__C': [0.1, 1, 10, 100, 1000], 'svm_clf__kernel': ['linear'], 'svm_clf__probability': [True]},\n",
    "    {'svm_clf__C': [0.1, 1, 10, 100, 1000], 'svm_clf__gamma': [0.001, 0.0001], 'svm_clf__kernel': ['rbf'], 'svm_clf__probability': [True]},\n",
    "    {'svm_clf__C': [0.1, 1, 10, 100, 1000], 'svm_clf__gamma': [0.001, 0.0001], 'svm_clf__kernel': ['poly'], 'svm_clf__degree': [2, 3], 'svm_clf__probability': [True]}\n",
    "] \n",
    "\n",
    "randomized_search = RandomizedSearchCV(svm_clf_pipeline, param_grid, cv=5, scoring='accuracy', n_jobs=-1, verbose=True, random_state=42)\n",
    "\n",
    "randomized_search.fit(X_train, y_train)"
   ]
  },
  {
   "cell_type": "code",
   "execution_count": 39,
   "id": "9fc5ed6b-4c4b-45b8-bbc0-64e069f90d5a",
   "metadata": {},
   "outputs": [
    {
     "data": {
      "text/plain": [
       "{'svm_clf__probability': True,\n",
       " 'svm_clf__kernel': 'rbf',\n",
       " 'svm_clf__gamma': 0.001,\n",
       " 'svm_clf__C': 1000}"
      ]
     },
     "execution_count": 39,
     "metadata": {},
     "output_type": "execute_result"
    }
   ],
   "source": [
    "# Obtencion del pipeline\n",
    "final_model = randomized_search.best_estimator_\n",
    "\n",
    "# Se muestran los mejores parametros\n",
    "randomized_search.best_params_"
   ]
  },
  {
   "cell_type": "code",
   "execution_count": 40,
   "id": "b5048219-2c2c-4a3d-a792-15b0ed4766e7",
   "metadata": {},
   "outputs": [
    {
     "data": {
      "text/html": [
       "<style>#sk-container-id-5 {color: black;}#sk-container-id-5 pre{padding: 0;}#sk-container-id-5 div.sk-toggleable {background-color: white;}#sk-container-id-5 label.sk-toggleable__label {cursor: pointer;display: block;width: 100%;margin-bottom: 0;padding: 0.3em;box-sizing: border-box;text-align: center;}#sk-container-id-5 label.sk-toggleable__label-arrow:before {content: \"▸\";float: left;margin-right: 0.25em;color: #696969;}#sk-container-id-5 label.sk-toggleable__label-arrow:hover:before {color: black;}#sk-container-id-5 div.sk-estimator:hover label.sk-toggleable__label-arrow:before {color: black;}#sk-container-id-5 div.sk-toggleable__content {max-height: 0;max-width: 0;overflow: hidden;text-align: left;background-color: #f0f8ff;}#sk-container-id-5 div.sk-toggleable__content pre {margin: 0.2em;color: black;border-radius: 0.25em;background-color: #f0f8ff;}#sk-container-id-5 input.sk-toggleable__control:checked~div.sk-toggleable__content {max-height: 200px;max-width: 100%;overflow: auto;}#sk-container-id-5 input.sk-toggleable__control:checked~label.sk-toggleable__label-arrow:before {content: \"▾\";}#sk-container-id-5 div.sk-estimator input.sk-toggleable__control:checked~label.sk-toggleable__label {background-color: #d4ebff;}#sk-container-id-5 div.sk-label input.sk-toggleable__control:checked~label.sk-toggleable__label {background-color: #d4ebff;}#sk-container-id-5 input.sk-hidden--visually {border: 0;clip: rect(1px 1px 1px 1px);clip: rect(1px, 1px, 1px, 1px);height: 1px;margin: -1px;overflow: hidden;padding: 0;position: absolute;width: 1px;}#sk-container-id-5 div.sk-estimator {font-family: monospace;background-color: #f0f8ff;border: 1px dotted black;border-radius: 0.25em;box-sizing: border-box;margin-bottom: 0.5em;}#sk-container-id-5 div.sk-estimator:hover {background-color: #d4ebff;}#sk-container-id-5 div.sk-parallel-item::after {content: \"\";width: 100%;border-bottom: 1px solid gray;flex-grow: 1;}#sk-container-id-5 div.sk-label:hover label.sk-toggleable__label {background-color: #d4ebff;}#sk-container-id-5 div.sk-serial::before {content: \"\";position: absolute;border-left: 1px solid gray;box-sizing: border-box;top: 0;bottom: 0;left: 50%;z-index: 0;}#sk-container-id-5 div.sk-serial {display: flex;flex-direction: column;align-items: center;background-color: white;padding-right: 0.2em;padding-left: 0.2em;position: relative;}#sk-container-id-5 div.sk-item {position: relative;z-index: 1;}#sk-container-id-5 div.sk-parallel {display: flex;align-items: stretch;justify-content: center;background-color: white;position: relative;}#sk-container-id-5 div.sk-item::before, #sk-container-id-5 div.sk-parallel-item::before {content: \"\";position: absolute;border-left: 1px solid gray;box-sizing: border-box;top: 0;bottom: 0;left: 50%;z-index: -1;}#sk-container-id-5 div.sk-parallel-item {display: flex;flex-direction: column;z-index: 1;position: relative;background-color: white;}#sk-container-id-5 div.sk-parallel-item:first-child::after {align-self: flex-end;width: 50%;}#sk-container-id-5 div.sk-parallel-item:last-child::after {align-self: flex-start;width: 50%;}#sk-container-id-5 div.sk-parallel-item:only-child::after {width: 0;}#sk-container-id-5 div.sk-dashed-wrapped {border: 1px dashed gray;margin: 0 0.4em 0.5em 0.4em;box-sizing: border-box;padding-bottom: 0.4em;background-color: white;}#sk-container-id-5 div.sk-label label {font-family: monospace;font-weight: bold;display: inline-block;line-height: 1.2em;}#sk-container-id-5 div.sk-label-container {text-align: center;}#sk-container-id-5 div.sk-container {/* jupyter's `normalize.less` sets `[hidden] { display: none; }` but bootstrap.min.css set `[hidden] { display: none !important; }` so we also need the `!important` here to be able to override the default hidden behavior on the sphinx rendered scikit-learn.org. See: https://github.com/scikit-learn/scikit-learn/issues/21755 */display: inline-block !important;position: relative;}#sk-container-id-5 div.sk-text-repr-fallback {display: none;}</style><div id=\"sk-container-id-5\" class=\"sk-top-container\"><div class=\"sk-text-repr-fallback\"><pre>Pipeline(steps=[(&#x27;scaler&#x27;, StandardScaler()),\n",
       "                (&#x27;svm_clf&#x27;, SVC(C=1000, gamma=0.001, probability=True))])</pre><b>In a Jupyter environment, please rerun this cell to show the HTML representation or trust the notebook. <br />On GitHub, the HTML representation is unable to render, please try loading this page with nbviewer.org.</b></div><div class=\"sk-container\" hidden><div class=\"sk-item sk-dashed-wrapped\"><div class=\"sk-label-container\"><div class=\"sk-label sk-toggleable\"><input class=\"sk-toggleable__control sk-hidden--visually\" id=\"sk-estimator-id-15\" type=\"checkbox\" ><label for=\"sk-estimator-id-15\" class=\"sk-toggleable__label sk-toggleable__label-arrow\">Pipeline</label><div class=\"sk-toggleable__content\"><pre>Pipeline(steps=[(&#x27;scaler&#x27;, StandardScaler()),\n",
       "                (&#x27;svm_clf&#x27;, SVC(C=1000, gamma=0.001, probability=True))])</pre></div></div></div><div class=\"sk-serial\"><div class=\"sk-item\"><div class=\"sk-estimator sk-toggleable\"><input class=\"sk-toggleable__control sk-hidden--visually\" id=\"sk-estimator-id-16\" type=\"checkbox\" ><label for=\"sk-estimator-id-16\" class=\"sk-toggleable__label sk-toggleable__label-arrow\">StandardScaler</label><div class=\"sk-toggleable__content\"><pre>StandardScaler()</pre></div></div></div><div class=\"sk-item\"><div class=\"sk-estimator sk-toggleable\"><input class=\"sk-toggleable__control sk-hidden--visually\" id=\"sk-estimator-id-17\" type=\"checkbox\" ><label for=\"sk-estimator-id-17\" class=\"sk-toggleable__label sk-toggleable__label-arrow\">SVC</label><div class=\"sk-toggleable__content\"><pre>SVC(C=1000, gamma=0.001, probability=True)</pre></div></div></div></div></div></div></div>"
      ],
      "text/plain": [
       "Pipeline(steps=[('scaler', StandardScaler()),\n",
       "                ('svm_clf', SVC(C=1000, gamma=0.001, probability=True))])"
      ]
     },
     "execution_count": 40,
     "metadata": {},
     "output_type": "execute_result"
    }
   ],
   "source": [
    "# Entrenamiento del modelo\n",
    "final_model.fit(X_train, y_train)"
   ]
  },
  {
   "cell_type": "code",
   "execution_count": 41,
   "id": "bbcc7469-5229-4340-83da-a1c5d0357859",
   "metadata": {},
   "outputs": [
    {
     "data": {
      "text/plain": [
       "['models/svc_clf.pkl']"
      ]
     },
     "execution_count": 41,
     "metadata": {},
     "output_type": "execute_result"
    }
   ],
   "source": [
    "import joblib\n",
    "\n",
    "# Importamos a el modelo svc_clf\n",
    "\n",
    "joblib.dump(final_model, 'models/svc_clf.pkl')"
   ]
  },
  {
   "cell_type": "code",
   "execution_count": 42,
   "id": "0263184f-02fa-460c-8e2e-5de77a6f7cd2",
   "metadata": {},
   "outputs": [
    {
     "data": {
      "text/plain": [
       "array([[17,  0],\n",
       "       [ 2, 15]], dtype=int64)"
      ]
     },
     "execution_count": 42,
     "metadata": {},
     "output_type": "execute_result"
    }
   ],
   "source": [
    "from sklearn.model_selection import cross_val_predict\n",
    "from sklearn.metrics import confusion_matrix\n",
    "\n",
    "y_test_pred = final_model.predict(X_test)\n",
    "\n",
    "confusion_matrix(y_test, y_test_pred)"
   ]
  },
  {
   "cell_type": "code",
   "execution_count": 43,
   "id": "d5d092f4-6341-4cd6-a353-a8a3444c964e",
   "metadata": {},
   "outputs": [
    {
     "data": {
      "image/png": "[encoded data removed]",
      "text/plain": [
       "<Figure size 480x480 with 1 Axes>"
      ]
     },
     "metadata": {},
     "output_type": "display_data"
    }
   ],
   "source": [
    "plt.matshow(confusion_matrix(y_test, y_test_pred), cmap=plt.cm.gray)\n",
    "plt.show()"
   ]
  },
  {
   "cell_type": "code",
   "execution_count": 47,
   "id": "16891b0d-5efa-4a13-92eb-3b3e82b11bc1",
   "metadata": {},
   "outputs": [
    {
     "name": "stdout",
     "output_type": "stream",
     "text": [
      "Accuracy:  0.9411764705882353\n",
      "Precision:  0.9473684210526315\n",
      "Recall:  0.9411764705882353\n",
      "F1-Score:  0.9409722222222222\n",
      "ROC AUC Score:  0.9411764705882353\n"
     ]
    }
   ],
   "source": [
    "from sklearn.metrics import accuracy_score, precision_score, recall_score, f1_score, roc_auc_score\n",
    "\n",
    "y_pred = final_model.predict_proba(X_test)\n",
    "\n",
    "# Obtenemos la predicción de la clase más probable\n",
    "y_pred = y_pred.argmax(axis=1)\n",
    "\n",
    "# Convertimos el array y_pred a un array unidimensional\n",
    "y_pred = y_pred.ravel()\n",
    "\n",
    "final_results = [\n",
    "    accuracy_score(y_test, y_test_pred),\n",
    "    precision_score(y_test, y_test_pred, average='weighted'),\n",
    "    recall_score(y_test, y_test_pred, average='weighted'),\n",
    "    f1_score(y_test, y_test_pred, average='weighted'),\n",
    "    roc_auc_score(y_test, y_pred, multi_class='ovr')\n",
    "]\n",
    "\n",
    "# Mostramos el accuracy, precision, recall, f1-score y ROC\n",
    "print(\"Accuracy: \", final_results[0])\n",
    "print(\"Precision: \", final_results[1])\n",
    "print(\"Recall: \", final_results[2])\n",
    "print(\"F1-Score: \", final_results[3])\n",
    "print(\"ROC AUC Score: \", final_results[4])"
   ]
  },
  {
   "cell_type": "code",
   "execution_count": 48,
   "id": "69c5030e-0ca1-4040-96c9-b907d2a4b9fd",
   "metadata": {},
   "outputs": [
    {
     "data": {
      "text/plain": [
       "['models/svc_clf_results.pkl']"
      ]
     },
     "execution_count": 48,
     "metadata": {},
     "output_type": "execute_result"
    }
   ],
   "source": [
    "# Importamos a la carpeta models ahora con el mismo nombre pero agregamos results\n",
    "joblib.dump(final_results, 'models/svc_clf_results.pkl')"
   ]
  },
  {
   "cell_type": "markdown",
   "id": "12af8e40",
   "metadata": {},
   "source": [
    "# Random Forest Classifier"
   ]
  },
  {
   "cell_type": "code",
   "execution_count": 49,
   "id": "9d65e897-d7ea-409a-a413-bf0bf4829aba",
   "metadata": {},
   "outputs": [
    {
     "name": "stdout",
     "output_type": "stream",
     "text": [
      "Fitting 5 folds for each of 10 candidates, totalling 50 fits\n"
     ]
    },
    {
     "data": {
      "text/html": [
       "<style>#sk-container-id-6 {color: black;}#sk-container-id-6 pre{padding: 0;}#sk-container-id-6 div.sk-toggleable {background-color: white;}#sk-container-id-6 label.sk-toggleable__label {cursor: pointer;display: block;width: 100%;margin-bottom: 0;padding: 0.3em;box-sizing: border-box;text-align: center;}#sk-container-id-6 label.sk-toggleable__label-arrow:before {content: \"▸\";float: left;margin-right: 0.25em;color: #696969;}#sk-container-id-6 label.sk-toggleable__label-arrow:hover:before {color: black;}#sk-container-id-6 div.sk-estimator:hover label.sk-toggleable__label-arrow:before {color: black;}#sk-container-id-6 div.sk-toggleable__content {max-height: 0;max-width: 0;overflow: hidden;text-align: left;background-color: #f0f8ff;}#sk-container-id-6 div.sk-toggleable__content pre {margin: 0.2em;color: black;border-radius: 0.25em;background-color: #f0f8ff;}#sk-container-id-6 input.sk-toggleable__control:checked~div.sk-toggleable__content {max-height: 200px;max-width: 100%;overflow: auto;}#sk-container-id-6 input.sk-toggleable__control:checked~label.sk-toggleable__label-arrow:before {content: \"▾\";}#sk-container-id-6 div.sk-estimator input.sk-toggleable__control:checked~label.sk-toggleable__label {background-color: #d4ebff;}#sk-container-id-6 div.sk-label input.sk-toggleable__control:checked~label.sk-toggleable__label {background-color: #d4ebff;}#sk-container-id-6 input.sk-hidden--visually {border: 0;clip: rect(1px 1px 1px 1px);clip: rect(1px, 1px, 1px, 1px);height: 1px;margin: -1px;overflow: hidden;padding: 0;position: absolute;width: 1px;}#sk-container-id-6 div.sk-estimator {font-family: monospace;background-color: #f0f8ff;border: 1px dotted black;border-radius: 0.25em;box-sizing: border-box;margin-bottom: 0.5em;}#sk-container-id-6 div.sk-estimator:hover {background-color: #d4ebff;}#sk-container-id-6 div.sk-parallel-item::after {content: \"\";width: 100%;border-bottom: 1px solid gray;flex-grow: 1;}#sk-container-id-6 div.sk-label:hover label.sk-toggleable__label {background-color: #d4ebff;}#sk-container-id-6 div.sk-serial::before {content: \"\";position: absolute;border-left: 1px solid gray;box-sizing: border-box;top: 0;bottom: 0;left: 50%;z-index: 0;}#sk-container-id-6 div.sk-serial {display: flex;flex-direction: column;align-items: center;background-color: white;padding-right: 0.2em;padding-left: 0.2em;position: relative;}#sk-container-id-6 div.sk-item {position: relative;z-index: 1;}#sk-container-id-6 div.sk-parallel {display: flex;align-items: stretch;justify-content: center;background-color: white;position: relative;}#sk-container-id-6 div.sk-item::before, #sk-container-id-6 div.sk-parallel-item::before {content: \"\";position: absolute;border-left: 1px solid gray;box-sizing: border-box;top: 0;bottom: 0;left: 50%;z-index: -1;}#sk-container-id-6 div.sk-parallel-item {display: flex;flex-direction: column;z-index: 1;position: relative;background-color: white;}#sk-container-id-6 div.sk-parallel-item:first-child::after {align-self: flex-end;width: 50%;}#sk-container-id-6 div.sk-parallel-item:last-child::after {align-self: flex-start;width: 50%;}#sk-container-id-6 div.sk-parallel-item:only-child::after {width: 0;}#sk-container-id-6 div.sk-dashed-wrapped {border: 1px dashed gray;margin: 0 0.4em 0.5em 0.4em;box-sizing: border-box;padding-bottom: 0.4em;background-color: white;}#sk-container-id-6 div.sk-label label {font-family: monospace;font-weight: bold;display: inline-block;line-height: 1.2em;}#sk-container-id-6 div.sk-label-container {text-align: center;}#sk-container-id-6 div.sk-container {/* jupyter's `normalize.less` sets `[hidden] { display: none; }` but bootstrap.min.css set `[hidden] { display: none !important; }` so we also need the `!important` here to be able to override the default hidden behavior on the sphinx rendered scikit-learn.org. See: https://github.com/scikit-learn/scikit-learn/issues/21755 */display: inline-block !important;position: relative;}#sk-container-id-6 div.sk-text-repr-fallback {display: none;}</style><div id=\"sk-container-id-6\" class=\"sk-top-container\"><div class=\"sk-text-repr-fallback\"><pre>RandomizedSearchCV(cv=5,\n",
       "                   estimator=Pipeline(steps=[(&#x27;pca&#x27;, PCA()),\n",
       "                                             (&#x27;rf_clf&#x27;,\n",
       "                                              RandomForestClassifier())]),\n",
       "                   n_jobs=-1,\n",
       "                   param_distributions=[{&#x27;rf_clf__max_features&#x27;: [2, 4, 6, 8],\n",
       "                                         &#x27;rf_clf__n_estimators&#x27;: [10, 100, 200,\n",
       "                                                                  500]},\n",
       "                                        {&#x27;rf_clf__bootstrap&#x27;: [False],\n",
       "                                         &#x27;rf_clf__max_features&#x27;: [2, 3, 4],\n",
       "                                         &#x27;rf_clf__n_estimators&#x27;: [10, 100, 200,\n",
       "                                                                  500]}],\n",
       "                   random_state=42, scoring=&#x27;accuracy&#x27;, verbose=True)</pre><b>In a Jupyter environment, please rerun this cell to show the HTML representation or trust the notebook. <br />On GitHub, the HTML representation is unable to render, please try loading this page with nbviewer.org.</b></div><div class=\"sk-container\" hidden><div class=\"sk-item sk-dashed-wrapped\"><div class=\"sk-label-container\"><div class=\"sk-label sk-toggleable\"><input class=\"sk-toggleable__control sk-hidden--visually\" id=\"sk-estimator-id-18\" type=\"checkbox\" ><label for=\"sk-estimator-id-18\" class=\"sk-toggleable__label sk-toggleable__label-arrow\">RandomizedSearchCV</label><div class=\"sk-toggleable__content\"><pre>RandomizedSearchCV(cv=5,\n",
       "                   estimator=Pipeline(steps=[(&#x27;pca&#x27;, PCA()),\n",
       "                                             (&#x27;rf_clf&#x27;,\n",
       "                                              RandomForestClassifier())]),\n",
       "                   n_jobs=-1,\n",
       "                   param_distributions=[{&#x27;rf_clf__max_features&#x27;: [2, 4, 6, 8],\n",
       "                                         &#x27;rf_clf__n_estimators&#x27;: [10, 100, 200,\n",
       "                                                                  500]},\n",
       "                                        {&#x27;rf_clf__bootstrap&#x27;: [False],\n",
       "                                         &#x27;rf_clf__max_features&#x27;: [2, 3, 4],\n",
       "                                         &#x27;rf_clf__n_estimators&#x27;: [10, 100, 200,\n",
       "                                                                  500]}],\n",
       "                   random_state=42, scoring=&#x27;accuracy&#x27;, verbose=True)</pre></div></div></div><div class=\"sk-parallel\"><div class=\"sk-parallel-item\"><div class=\"sk-item\"><div class=\"sk-label-container\"><div class=\"sk-label sk-toggleable\"><input class=\"sk-toggleable__control sk-hidden--visually\" id=\"sk-estimator-id-19\" type=\"checkbox\" ><label for=\"sk-estimator-id-19\" class=\"sk-toggleable__label sk-toggleable__label-arrow\">estimator: Pipeline</label><div class=\"sk-toggleable__content\"><pre>Pipeline(steps=[(&#x27;pca&#x27;, PCA()), (&#x27;rf_clf&#x27;, RandomForestClassifier())])</pre></div></div></div><div class=\"sk-serial\"><div class=\"sk-item\"><div class=\"sk-serial\"><div class=\"sk-item\"><div class=\"sk-estimator sk-toggleable\"><input class=\"sk-toggleable__control sk-hidden--visually\" id=\"sk-estimator-id-20\" type=\"checkbox\" ><label for=\"sk-estimator-id-20\" class=\"sk-toggleable__label sk-toggleable__label-arrow\">PCA</label><div class=\"sk-toggleable__content\"><pre>PCA()</pre></div></div></div><div class=\"sk-item\"><div class=\"sk-estimator sk-toggleable\"><input class=\"sk-toggleable__control sk-hidden--visually\" id=\"sk-estimator-id-21\" type=\"checkbox\" ><label for=\"sk-estimator-id-21\" class=\"sk-toggleable__label sk-toggleable__label-arrow\">RandomForestClassifier</label><div class=\"sk-toggleable__content\"><pre>RandomForestClassifier()</pre></div></div></div></div></div></div></div></div></div></div></div></div>"
      ],
      "text/plain": [
       "RandomizedSearchCV(cv=5,\n",
       "                   estimator=Pipeline(steps=[('pca', PCA()),\n",
       "                                             ('rf_clf',\n",
       "                                              RandomForestClassifier())]),\n",
       "                   n_jobs=-1,\n",
       "                   param_distributions=[{'rf_clf__max_features': [2, 4, 6, 8],\n",
       "                                         'rf_clf__n_estimators': [10, 100, 200,\n",
       "                                                                  500]},\n",
       "                                        {'rf_clf__bootstrap': [False],\n",
       "                                         'rf_clf__max_features': [2, 3, 4],\n",
       "                                         'rf_clf__n_estimators': [10, 100, 200,\n",
       "                                                                  500]}],\n",
       "                   random_state=42, scoring='accuracy', verbose=True)"
      ]
     },
     "execution_count": 49,
     "metadata": {},
     "output_type": "execute_result"
    }
   ],
   "source": [
    "# Random Forest Classifier\n",
    "\n",
    "from sklearn.ensemble import RandomForestClassifier\n",
    "from sklearn.decomposition import PCA\n",
    "\n",
    "# Clasificador de Random Forest\n",
    "rf_clf = RandomForestClassifier()\n",
    "\n",
    "# Pipeline\n",
    "rf_clf_pipeline = Pipeline([\n",
    "    (\"pca\", PCA()),\n",
    "    (\"rf_clf\", rf_clf)\n",
    "])\n",
    "\n",
    "param_grid = [\n",
    "    {'rf_clf__n_estimators': [10, 100, 200, 500], 'rf_clf__max_features': [2, 4, 6, 8]},\n",
    "    {'rf_clf__bootstrap': [False], 'rf_clf__n_estimators': [10, 100, 200, 500], 'rf_clf__max_features': [2, 3, 4]}\n",
    "]\n",
    "\n",
    "randomized_search = RandomizedSearchCV(rf_clf_pipeline, param_grid, cv=5, scoring='accuracy', n_jobs=-1, verbose=True, random_state=42)\n",
    "\n",
    "randomized_search.fit(X_train, y_train)"
   ]
  },
  {
   "cell_type": "code",
   "execution_count": 50,
   "id": "34e5597e-1f9d-4c04-8bd0-ab9df44ce79b",
   "metadata": {},
   "outputs": [
    {
     "data": {
      "text/plain": [
       "{'rf_clf__n_estimators': 100, 'rf_clf__max_features': 8}"
      ]
     },
     "execution_count": 50,
     "metadata": {},
     "output_type": "execute_result"
    }
   ],
   "source": [
    "final_model = randomized_search.best_estimator_\n",
    "\n",
    "randomized_search.best_params_"
   ]
  },
  {
   "cell_type": "code",
   "execution_count": 51,
   "id": "20aad3f3-689e-41e8-b2f9-424ff67b1a0e",
   "metadata": {},
   "outputs": [
    {
     "data": {
      "text/html": [
       "<style>#sk-container-id-7 {color: black;}#sk-container-id-7 pre{padding: 0;}#sk-container-id-7 div.sk-toggleable {background-color: white;}#sk-container-id-7 label.sk-toggleable__label {cursor: pointer;display: block;width: 100%;margin-bottom: 0;padding: 0.3em;box-sizing: border-box;text-align: center;}#sk-container-id-7 label.sk-toggleable__label-arrow:before {content: \"▸\";float: left;margin-right: 0.25em;color: #696969;}#sk-container-id-7 label.sk-toggleable__label-arrow:hover:before {color: black;}#sk-container-id-7 div.sk-estimator:hover label.sk-toggleable__label-arrow:before {color: black;}#sk-container-id-7 div.sk-toggleable__content {max-height: 0;max-width: 0;overflow: hidden;text-align: left;background-color: #f0f8ff;}#sk-container-id-7 div.sk-toggleable__content pre {margin: 0.2em;color: black;border-radius: 0.25em;background-color: #f0f8ff;}#sk-container-id-7 input.sk-toggleable__control:checked~div.sk-toggleable__content {max-height: 200px;max-width: 100%;overflow: auto;}#sk-container-id-7 input.sk-toggleable__control:checked~label.sk-toggleable__label-arrow:before {content: \"▾\";}#sk-container-id-7 div.sk-estimator input.sk-toggleable__control:checked~label.sk-toggleable__label {background-color: #d4ebff;}#sk-container-id-7 div.sk-label input.sk-toggleable__control:checked~label.sk-toggleable__label {background-color: #d4ebff;}#sk-container-id-7 input.sk-hidden--visually {border: 0;clip: rect(1px 1px 1px 1px);clip: rect(1px, 1px, 1px, 1px);height: 1px;margin: -1px;overflow: hidden;padding: 0;position: absolute;width: 1px;}#sk-container-id-7 div.sk-estimator {font-family: monospace;background-color: #f0f8ff;border: 1px dotted black;border-radius: 0.25em;box-sizing: border-box;margin-bottom: 0.5em;}#sk-container-id-7 div.sk-estimator:hover {background-color: #d4ebff;}#sk-container-id-7 div.sk-parallel-item::after {content: \"\";width: 100%;border-bottom: 1px solid gray;flex-grow: 1;}#sk-container-id-7 div.sk-label:hover label.sk-toggleable__label {background-color: #d4ebff;}#sk-container-id-7 div.sk-serial::before {content: \"\";position: absolute;border-left: 1px solid gray;box-sizing: border-box;top: 0;bottom: 0;left: 50%;z-index: 0;}#sk-container-id-7 div.sk-serial {display: flex;flex-direction: column;align-items: center;background-color: white;padding-right: 0.2em;padding-left: 0.2em;position: relative;}#sk-container-id-7 div.sk-item {position: relative;z-index: 1;}#sk-container-id-7 div.sk-parallel {display: flex;align-items: stretch;justify-content: center;background-color: white;position: relative;}#sk-container-id-7 div.sk-item::before, #sk-container-id-7 div.sk-parallel-item::before {content: \"\";position: absolute;border-left: 1px solid gray;box-sizing: border-box;top: 0;bottom: 0;left: 50%;z-index: -1;}#sk-container-id-7 div.sk-parallel-item {display: flex;flex-direction: column;z-index: 1;position: relative;background-color: white;}#sk-container-id-7 div.sk-parallel-item:first-child::after {align-self: flex-end;width: 50%;}#sk-container-id-7 div.sk-parallel-item:last-child::after {align-self: flex-start;width: 50%;}#sk-container-id-7 div.sk-parallel-item:only-child::after {width: 0;}#sk-container-id-7 div.sk-dashed-wrapped {border: 1px dashed gray;margin: 0 0.4em 0.5em 0.4em;box-sizing: border-box;padding-bottom: 0.4em;background-color: white;}#sk-container-id-7 div.sk-label label {font-family: monospace;font-weight: bold;display: inline-block;line-height: 1.2em;}#sk-container-id-7 div.sk-label-container {text-align: center;}#sk-container-id-7 div.sk-container {/* jupyter's `normalize.less` sets `[hidden] { display: none; }` but bootstrap.min.css set `[hidden] { display: none !important; }` so we also need the `!important` here to be able to override the default hidden behavior on the sphinx rendered scikit-learn.org. See: https://github.com/scikit-learn/scikit-learn/issues/21755 */display: inline-block !important;position: relative;}#sk-container-id-7 div.sk-text-repr-fallback {display: none;}</style><div id=\"sk-container-id-7\" class=\"sk-top-container\"><div class=\"sk-text-repr-fallback\"><pre>Pipeline(steps=[(&#x27;pca&#x27;, PCA()),\n",
       "                (&#x27;rf_clf&#x27;, RandomForestClassifier(max_features=8))])</pre><b>In a Jupyter environment, please rerun this cell to show the HTML representation or trust the notebook. <br />On GitHub, the HTML representation is unable to render, please try loading this page with nbviewer.org.</b></div><div class=\"sk-container\" hidden><div class=\"sk-item sk-dashed-wrapped\"><div class=\"sk-label-container\"><div class=\"sk-label sk-toggleable\"><input class=\"sk-toggleable__control sk-hidden--visually\" id=\"sk-estimator-id-22\" type=\"checkbox\" ><label for=\"sk-estimator-id-22\" class=\"sk-toggleable__label sk-toggleable__label-arrow\">Pipeline</label><div class=\"sk-toggleable__content\"><pre>Pipeline(steps=[(&#x27;pca&#x27;, PCA()),\n",
       "                (&#x27;rf_clf&#x27;, RandomForestClassifier(max_features=8))])</pre></div></div></div><div class=\"sk-serial\"><div class=\"sk-item\"><div class=\"sk-estimator sk-toggleable\"><input class=\"sk-toggleable__control sk-hidden--visually\" id=\"sk-estimator-id-23\" type=\"checkbox\" ><label for=\"sk-estimator-id-23\" class=\"sk-toggleable__label sk-toggleable__label-arrow\">PCA</label><div class=\"sk-toggleable__content\"><pre>PCA()</pre></div></div></div><div class=\"sk-item\"><div class=\"sk-estimator sk-toggleable\"><input class=\"sk-toggleable__control sk-hidden--visually\" id=\"sk-estimator-id-24\" type=\"checkbox\" ><label for=\"sk-estimator-id-24\" class=\"sk-toggleable__label sk-toggleable__label-arrow\">RandomForestClassifier</label><div class=\"sk-toggleable__content\"><pre>RandomForestClassifier(max_features=8)</pre></div></div></div></div></div></div></div>"
      ],
      "text/plain": [
       "Pipeline(steps=[('pca', PCA()),\n",
       "                ('rf_clf', RandomForestClassifier(max_features=8))])"
      ]
     },
     "execution_count": 51,
     "metadata": {},
     "output_type": "execute_result"
    }
   ],
   "source": [
    "final_model.fit(X_train, y_train)"
   ]
  },
  {
   "cell_type": "code",
   "execution_count": 52,
   "id": "30e69a2a-dfee-4632-b244-e16bf40cf965",
   "metadata": {},
   "outputs": [
    {
     "data": {
      "text/plain": [
       "['models/rfc_clf.pkl']"
      ]
     },
     "execution_count": 52,
     "metadata": {},
     "output_type": "execute_result"
    }
   ],
   "source": [
    "joblib.dump(final_model, 'models/rfc_clf.pkl')"
   ]
  },
  {
   "cell_type": "code",
   "execution_count": 53,
   "id": "e155d1dd-aa0b-49b3-9494-f816981808e6",
   "metadata": {},
   "outputs": [
    {
     "data": {
      "text/plain": [
       "array([[17,  0],\n",
       "       [ 4, 13]], dtype=int64)"
      ]
     },
     "execution_count": 53,
     "metadata": {},
     "output_type": "execute_result"
    }
   ],
   "source": [
    "y_test_pred = final_model.predict(X_test)\n",
    "\n",
    "confusion_matrix(y_test, y_test_pred)"
   ]
  },
  {
   "cell_type": "code",
   "execution_count": 54,
   "id": "43dfd766-77c3-4c2a-bf5f-c51e813203a5",
   "metadata": {},
   "outputs": [
    {
     "data": {
      "image/png": "[encoded data removed]",
      "text/plain": [
       "<Figure size 480x480 with 1 Axes>"
      ]
     },
     "metadata": {},
     "output_type": "display_data"
    }
   ],
   "source": [
    "plt.matshow(confusion_matrix(y_test, y_test_pred), cmap=plt.cm.gray)\n",
    "plt.show()"
   ]
  },
  {
   "cell_type": "code",
   "execution_count": 56,
   "id": "eb21903b-4ce2-40a0-ad83-1e89c677f5d7",
   "metadata": {},
   "outputs": [
    {
     "name": "stdout",
     "output_type": "stream",
     "text": [
      "Accuracy:  0.8823529411764706\n",
      "Precision:  0.9047619047619048\n",
      "Recall:  0.8823529411764706\n",
      "F1-Score:  0.8807017543859649\n",
      "ROC AUC Score:  0.8823529411764706\n"
     ]
    }
   ],
   "source": [
    "# Obtenemos la predicción de probabilidades\n",
    "y_pred = final_model.predict_proba(X_test)\n",
    "\n",
    "# Obtenemos la predicción de la clase más probable\n",
    "y_pred = y_pred.argmax(axis=1)\n",
    "\n",
    "# Convertimos el array y_pred a un array unidimensional\n",
    "y_pred = y_pred.ravel()\n",
    "\n",
    "final_results = [\n",
    "    accuracy_score(y_test, y_test_pred),\n",
    "    precision_score(y_test, y_test_pred, average='weighted'),\n",
    "    recall_score(y_test, y_test_pred, average='weighted'),\n",
    "    f1_score(y_test, y_test_pred, average='weighted'),\n",
    "    roc_auc_score(y_test, y_pred, multi_class='ovr')\n",
    "]\n",
    "\n",
    "# Mostramos el precision, recall, accuracy, f1-score y ROC\n",
    "print(\"Accuracy: \", final_results[0])\n",
    "print(\"Precision: \", final_results[1])\n",
    "print(\"Recall: \", final_results[2])\n",
    "print(\"F1-Score: \", final_results[3])\n",
    "print(\"ROC AUC Score: \", final_results[4])"
   ]
  },
  {
   "cell_type": "code",
   "execution_count": 57,
   "id": "7611623a-e078-485a-85a4-8f7f845b4673",
   "metadata": {},
   "outputs": [
    {
     "data": {
      "text/plain": [
       "['models/rfc_clf_results.pkl']"
      ]
     },
     "execution_count": 57,
     "metadata": {},
     "output_type": "execute_result"
    }
   ],
   "source": [
    "joblib.dump(final_results, 'models/rfc_clf_results.pkl')"
   ]
  },
  {
   "cell_type": "markdown",
   "id": "53344349",
   "metadata": {},
   "source": [
    "# Extra Trees Classifier"
   ]
  },
  {
   "cell_type": "code",
   "execution_count": 58,
   "id": "31d185da-80e6-4199-a570-3bfd5cf837bc",
   "metadata": {},
   "outputs": [
    {
     "name": "stdout",
     "output_type": "stream",
     "text": [
      "Fitting 5 folds for each of 10 candidates, totalling 50 fits\n"
     ]
    },
    {
     "data": {
      "text/html": [
       "<style>#sk-container-id-8 {color: black;}#sk-container-id-8 pre{padding: 0;}#sk-container-id-8 div.sk-toggleable {background-color: white;}#sk-container-id-8 label.sk-toggleable__label {cursor: pointer;display: block;width: 100%;margin-bottom: 0;padding: 0.3em;box-sizing: border-box;text-align: center;}#sk-container-id-8 label.sk-toggleable__label-arrow:before {content: \"▸\";float: left;margin-right: 0.25em;color: #696969;}#sk-container-id-8 label.sk-toggleable__label-arrow:hover:before {color: black;}#sk-container-id-8 div.sk-estimator:hover label.sk-toggleable__label-arrow:before {color: black;}#sk-container-id-8 div.sk-toggleable__content {max-height: 0;max-width: 0;overflow: hidden;text-align: left;background-color: #f0f8ff;}#sk-container-id-8 div.sk-toggleable__content pre {margin: 0.2em;color: black;border-radius: 0.25em;background-color: #f0f8ff;}#sk-container-id-8 input.sk-toggleable__control:checked~div.sk-toggleable__content {max-height: 200px;max-width: 100%;overflow: auto;}#sk-container-id-8 input.sk-toggleable__control:checked~label.sk-toggleable__label-arrow:before {content: \"▾\";}#sk-container-id-8 div.sk-estimator input.sk-toggleable__control:checked~label.sk-toggleable__label {background-color: #d4ebff;}#sk-container-id-8 div.sk-label input.sk-toggleable__control:checked~label.sk-toggleable__label {background-color: #d4ebff;}#sk-container-id-8 input.sk-hidden--visually {border: 0;clip: rect(1px 1px 1px 1px);clip: rect(1px, 1px, 1px, 1px);height: 1px;margin: -1px;overflow: hidden;padding: 0;position: absolute;width: 1px;}#sk-container-id-8 div.sk-estimator {font-family: monospace;background-color: #f0f8ff;border: 1px dotted black;border-radius: 0.25em;box-sizing: border-box;margin-bottom: 0.5em;}#sk-container-id-8 div.sk-estimator:hover {background-color: #d4ebff;}#sk-container-id-8 div.sk-parallel-item::after {content: \"\";width: 100%;border-bottom: 1px solid gray;flex-grow: 1;}#sk-container-id-8 div.sk-label:hover label.sk-toggleable__label {background-color: #d4ebff;}#sk-container-id-8 div.sk-serial::before {content: \"\";position: absolute;border-left: 1px solid gray;box-sizing: border-box;top: 0;bottom: 0;left: 50%;z-index: 0;}#sk-container-id-8 div.sk-serial {display: flex;flex-direction: column;align-items: center;background-color: white;padding-right: 0.2em;padding-left: 0.2em;position: relative;}#sk-container-id-8 div.sk-item {position: relative;z-index: 1;}#sk-container-id-8 div.sk-parallel {display: flex;align-items: stretch;justify-content: center;background-color: white;position: relative;}#sk-container-id-8 div.sk-item::before, #sk-container-id-8 div.sk-parallel-item::before {content: \"\";position: absolute;border-left: 1px solid gray;box-sizing: border-box;top: 0;bottom: 0;left: 50%;z-index: -1;}#sk-container-id-8 div.sk-parallel-item {display: flex;flex-direction: column;z-index: 1;position: relative;background-color: white;}#sk-container-id-8 div.sk-parallel-item:first-child::after {align-self: flex-end;width: 50%;}#sk-container-id-8 div.sk-parallel-item:last-child::after {align-self: flex-start;width: 50%;}#sk-container-id-8 div.sk-parallel-item:only-child::after {width: 0;}#sk-container-id-8 div.sk-dashed-wrapped {border: 1px dashed gray;margin: 0 0.4em 0.5em 0.4em;box-sizing: border-box;padding-bottom: 0.4em;background-color: white;}#sk-container-id-8 div.sk-label label {font-family: monospace;font-weight: bold;display: inline-block;line-height: 1.2em;}#sk-container-id-8 div.sk-label-container {text-align: center;}#sk-container-id-8 div.sk-container {/* jupyter's `normalize.less` sets `[hidden] { display: none; }` but bootstrap.min.css set `[hidden] { display: none !important; }` so we also need the `!important` here to be able to override the default hidden behavior on the sphinx rendered scikit-learn.org. See: https://github.com/scikit-learn/scikit-learn/issues/21755 */display: inline-block !important;position: relative;}#sk-container-id-8 div.sk-text-repr-fallback {display: none;}</style><div id=\"sk-container-id-8\" class=\"sk-top-container\"><div class=\"sk-text-repr-fallback\"><pre>RandomizedSearchCV(cv=5,\n",
       "                   estimator=Pipeline(steps=[(&#x27;pca&#x27;, PCA()),\n",
       "                                             (&#x27;etc_clf&#x27;,\n",
       "                                              ExtraTreesClassifier())]),\n",
       "                   n_jobs=-1,\n",
       "                   param_distributions=[{&#x27;etc_clf__max_depth&#x27;: [2, 4, 6],\n",
       "                                         &#x27;etc_clf__max_features&#x27;: [2, 4, 6, 8],\n",
       "                                         &#x27;etc_clf__min_samples_leaf&#x27;: [1, 2, 4],\n",
       "                                         &#x27;etc_clf__n_estimators&#x27;: [10, 100, 200,\n",
       "                                                                   500]},\n",
       "                                        {&#x27;etc_clf__bootstrap&#x27;: [False],\n",
       "                                         &#x27;etc_clf__max_depth&#x27;: [2, 4, 6],\n",
       "                                         &#x27;etc_clf__max_features&#x27;: [2, 3, 4],\n",
       "                                         &#x27;etc_clf__min_samples_leaf&#x27;: [1, 2, 4],\n",
       "                                         &#x27;etc_clf__n_estimators&#x27;: [10, 100, 200,\n",
       "                                                                   500]}],\n",
       "                   random_state=42, scoring=&#x27;accuracy&#x27;, verbose=True)</pre><b>In a Jupyter environment, please rerun this cell to show the HTML representation or trust the notebook. <br />On GitHub, the HTML representation is unable to render, please try loading this page with nbviewer.org.</b></div><div class=\"sk-container\" hidden><div class=\"sk-item sk-dashed-wrapped\"><div class=\"sk-label-container\"><div class=\"sk-label sk-toggleable\"><input class=\"sk-toggleable__control sk-hidden--visually\" id=\"sk-estimator-id-25\" type=\"checkbox\" ><label for=\"sk-estimator-id-25\" class=\"sk-toggleable__label sk-toggleable__label-arrow\">RandomizedSearchCV</label><div class=\"sk-toggleable__content\"><pre>RandomizedSearchCV(cv=5,\n",
       "                   estimator=Pipeline(steps=[(&#x27;pca&#x27;, PCA()),\n",
       "                                             (&#x27;etc_clf&#x27;,\n",
       "                                              ExtraTreesClassifier())]),\n",
       "                   n_jobs=-1,\n",
       "                   param_distributions=[{&#x27;etc_clf__max_depth&#x27;: [2, 4, 6],\n",
       "                                         &#x27;etc_clf__max_features&#x27;: [2, 4, 6, 8],\n",
       "                                         &#x27;etc_clf__min_samples_leaf&#x27;: [1, 2, 4],\n",
       "                                         &#x27;etc_clf__n_estimators&#x27;: [10, 100, 200,\n",
       "                                                                   500]},\n",
       "                                        {&#x27;etc_clf__bootstrap&#x27;: [False],\n",
       "                                         &#x27;etc_clf__max_depth&#x27;: [2, 4, 6],\n",
       "                                         &#x27;etc_clf__max_features&#x27;: [2, 3, 4],\n",
       "                                         &#x27;etc_clf__min_samples_leaf&#x27;: [1, 2, 4],\n",
       "                                         &#x27;etc_clf__n_estimators&#x27;: [10, 100, 200,\n",
       "                                                                   500]}],\n",
       "                   random_state=42, scoring=&#x27;accuracy&#x27;, verbose=True)</pre></div></div></div><div class=\"sk-parallel\"><div class=\"sk-parallel-item\"><div class=\"sk-item\"><div class=\"sk-label-container\"><div class=\"sk-label sk-toggleable\"><input class=\"sk-toggleable__control sk-hidden--visually\" id=\"sk-estimator-id-26\" type=\"checkbox\" ><label for=\"sk-estimator-id-26\" class=\"sk-toggleable__label sk-toggleable__label-arrow\">estimator: Pipeline</label><div class=\"sk-toggleable__content\"><pre>Pipeline(steps=[(&#x27;pca&#x27;, PCA()), (&#x27;etc_clf&#x27;, ExtraTreesClassifier())])</pre></div></div></div><div class=\"sk-serial\"><div class=\"sk-item\"><div class=\"sk-serial\"><div class=\"sk-item\"><div class=\"sk-estimator sk-toggleable\"><input class=\"sk-toggleable__control sk-hidden--visually\" id=\"sk-estimator-id-27\" type=\"checkbox\" ><label for=\"sk-estimator-id-27\" class=\"sk-toggleable__label sk-toggleable__label-arrow\">PCA</label><div class=\"sk-toggleable__content\"><pre>PCA()</pre></div></div></div><div class=\"sk-item\"><div class=\"sk-estimator sk-toggleable\"><input class=\"sk-toggleable__control sk-hidden--visually\" id=\"sk-estimator-id-28\" type=\"checkbox\" ><label for=\"sk-estimator-id-28\" class=\"sk-toggleable__label sk-toggleable__label-arrow\">ExtraTreesClassifier</label><div class=\"sk-toggleable__content\"><pre>ExtraTreesClassifier()</pre></div></div></div></div></div></div></div></div></div></div></div></div>"
      ],
      "text/plain": [
       "RandomizedSearchCV(cv=5,\n",
       "                   estimator=Pipeline(steps=[('pca', PCA()),\n",
       "                                             ('etc_clf',\n",
       "                                              ExtraTreesClassifier())]),\n",
       "                   n_jobs=-1,\n",
       "                   param_distributions=[{'etc_clf__max_depth': [2, 4, 6],\n",
       "                                         'etc_clf__max_features': [2, 4, 6, 8],\n",
       "                                         'etc_clf__min_samples_leaf': [1, 2, 4],\n",
       "                                         'etc_clf__n_estimators': [10, 100, 200,\n",
       "                                                                   500]},\n",
       "                                        {'etc_clf__bootstrap': [False],\n",
       "                                         'etc_clf__max_depth': [2, 4, 6],\n",
       "                                         'etc_clf__max_features': [2, 3, 4],\n",
       "                                         'etc_clf__min_samples_leaf': [1, 2, 4],\n",
       "                                         'etc_clf__n_estimators': [10, 100, 200,\n",
       "                                                                   500]}],\n",
       "                   random_state=42, scoring='accuracy', verbose=True)"
      ]
     },
     "execution_count": 58,
     "metadata": {},
     "output_type": "execute_result"
    }
   ],
   "source": [
    "# Extra Trees Classifier\n",
    "from sklearn.ensemble import ExtraTreesClassifier\n",
    "\n",
    "# Creamos el clasificador ExtraTreesClassifier\n",
    "etc_clf = ExtraTreesClassifier()\n",
    "\n",
    "# Creamos el pipeline\n",
    "etc_clf_pipeline = Pipeline([\n",
    "    (\"pca\", PCA()),\n",
    "    (\"etc_clf\", etc_clf)\n",
    "])\n",
    "\n",
    "# Grid de parámetros\n",
    "param_grid = [\n",
    "    {'etc_clf__n_estimators': [10, 100, 200, 500], 'etc_clf__max_features': [2, 4, 6, 8], 'etc_clf__max_depth': [2, 4, 6], 'etc_clf__min_samples_leaf': [1, 2, 4]},\n",
    "    {'etc_clf__bootstrap': [False], 'etc_clf__n_estimators': [10, 100, 200, 500], 'etc_clf__max_features': [2, 3, 4], 'etc_clf__max_depth': [2, 4, 6], 'etc_clf__min_samples_leaf': [1, 2, 4]}\n",
    "]\n",
    "\n",
    "randomized_search = RandomizedSearchCV(etc_clf_pipeline, param_grid, cv=5, scoring='accuracy', n_jobs=-1, verbose=True, random_state=42)\n",
    "\n",
    "randomized_search.fit(X_train, y_train)"
   ]
  },
  {
   "cell_type": "code",
   "execution_count": 59,
   "id": "7e2d315f-42dc-43f2-bb64-e7aaa400fff4",
   "metadata": {},
   "outputs": [
    {
     "data": {
      "text/plain": [
       "{'etc_clf__n_estimators': 100,\n",
       " 'etc_clf__min_samples_leaf': 4,\n",
       " 'etc_clf__max_features': 3,\n",
       " 'etc_clf__max_depth': 2,\n",
       " 'etc_clf__bootstrap': False}"
      ]
     },
     "execution_count": 59,
     "metadata": {},
     "output_type": "execute_result"
    }
   ],
   "source": [
    "final_model = randomized_search.best_estimator_\n",
    "\n",
    "randomized_search.best_params_"
   ]
  },
  {
   "cell_type": "code",
   "execution_count": 60,
   "id": "905b1d71-22d4-4a7c-8afc-229b5bdfb472",
   "metadata": {},
   "outputs": [
    {
     "data": {
      "text/html": [
       "<style>#sk-container-id-9 {color: black;}#sk-container-id-9 pre{padding: 0;}#sk-container-id-9 div.sk-toggleable {background-color: white;}#sk-container-id-9 label.sk-toggleable__label {cursor: pointer;display: block;width: 100%;margin-bottom: 0;padding: 0.3em;box-sizing: border-box;text-align: center;}#sk-container-id-9 label.sk-toggleable__label-arrow:before {content: \"▸\";float: left;margin-right: 0.25em;color: #696969;}#sk-container-id-9 label.sk-toggleable__label-arrow:hover:before {color: black;}#sk-container-id-9 div.sk-estimator:hover label.sk-toggleable__label-arrow:before {color: black;}#sk-container-id-9 div.sk-toggleable__content {max-height: 0;max-width: 0;overflow: hidden;text-align: left;background-color: #f0f8ff;}#sk-container-id-9 div.sk-toggleable__content pre {margin: 0.2em;color: black;border-radius: 0.25em;background-color: #f0f8ff;}#sk-container-id-9 input.sk-toggleable__control:checked~div.sk-toggleable__content {max-height: 200px;max-width: 100%;overflow: auto;}#sk-container-id-9 input.sk-toggleable__control:checked~label.sk-toggleable__label-arrow:before {content: \"▾\";}#sk-container-id-9 div.sk-estimator input.sk-toggleable__control:checked~label.sk-toggleable__label {background-color: #d4ebff;}#sk-container-id-9 div.sk-label input.sk-toggleable__control:checked~label.sk-toggleable__label {background-color: #d4ebff;}#sk-container-id-9 input.sk-hidden--visually {border: 0;clip: rect(1px 1px 1px 1px);clip: rect(1px, 1px, 1px, 1px);height: 1px;margin: -1px;overflow: hidden;padding: 0;position: absolute;width: 1px;}#sk-container-id-9 div.sk-estimator {font-family: monospace;background-color: #f0f8ff;border: 1px dotted black;border-radius: 0.25em;box-sizing: border-box;margin-bottom: 0.5em;}#sk-container-id-9 div.sk-estimator:hover {background-color: #d4ebff;}#sk-container-id-9 div.sk-parallel-item::after {content: \"\";width: 100%;border-bottom: 1px solid gray;flex-grow: 1;}#sk-container-id-9 div.sk-label:hover label.sk-toggleable__label {background-color: #d4ebff;}#sk-container-id-9 div.sk-serial::before {content: \"\";position: absolute;border-left: 1px solid gray;box-sizing: border-box;top: 0;bottom: 0;left: 50%;z-index: 0;}#sk-container-id-9 div.sk-serial {display: flex;flex-direction: column;align-items: center;background-color: white;padding-right: 0.2em;padding-left: 0.2em;position: relative;}#sk-container-id-9 div.sk-item {position: relative;z-index: 1;}#sk-container-id-9 div.sk-parallel {display: flex;align-items: stretch;justify-content: center;background-color: white;position: relative;}#sk-container-id-9 div.sk-item::before, #sk-container-id-9 div.sk-parallel-item::before {content: \"\";position: absolute;border-left: 1px solid gray;box-sizing: border-box;top: 0;bottom: 0;left: 50%;z-index: -1;}#sk-container-id-9 div.sk-parallel-item {display: flex;flex-direction: column;z-index: 1;position: relative;background-color: white;}#sk-container-id-9 div.sk-parallel-item:first-child::after {align-self: flex-end;width: 50%;}#sk-container-id-9 div.sk-parallel-item:last-child::after {align-self: flex-start;width: 50%;}#sk-container-id-9 div.sk-parallel-item:only-child::after {width: 0;}#sk-container-id-9 div.sk-dashed-wrapped {border: 1px dashed gray;margin: 0 0.4em 0.5em 0.4em;box-sizing: border-box;padding-bottom: 0.4em;background-color: white;}#sk-container-id-9 div.sk-label label {font-family: monospace;font-weight: bold;display: inline-block;line-height: 1.2em;}#sk-container-id-9 div.sk-label-container {text-align: center;}#sk-container-id-9 div.sk-container {/* jupyter's `normalize.less` sets `[hidden] { display: none; }` but bootstrap.min.css set `[hidden] { display: none !important; }` so we also need the `!important` here to be able to override the default hidden behavior on the sphinx rendered scikit-learn.org. See: https://github.com/scikit-learn/scikit-learn/issues/21755 */display: inline-block !important;position: relative;}#sk-container-id-9 div.sk-text-repr-fallback {display: none;}</style><div id=\"sk-container-id-9\" class=\"sk-top-container\"><div class=\"sk-text-repr-fallback\"><pre>Pipeline(steps=[(&#x27;pca&#x27;, PCA()),\n",
       "                (&#x27;etc_clf&#x27;,\n",
       "                 ExtraTreesClassifier(max_depth=2, max_features=3,\n",
       "                                      min_samples_leaf=4))])</pre><b>In a Jupyter environment, please rerun this cell to show the HTML representation or trust the notebook. <br />On GitHub, the HTML representation is unable to render, please try loading this page with nbviewer.org.</b></div><div class=\"sk-container\" hidden><div class=\"sk-item sk-dashed-wrapped\"><div class=\"sk-label-container\"><div class=\"sk-label sk-toggleable\"><input class=\"sk-toggleable__control sk-hidden--visually\" id=\"sk-estimator-id-29\" type=\"checkbox\" ><label for=\"sk-estimator-id-29\" class=\"sk-toggleable__label sk-toggleable__label-arrow\">Pipeline</label><div class=\"sk-toggleable__content\"><pre>Pipeline(steps=[(&#x27;pca&#x27;, PCA()),\n",
       "                (&#x27;etc_clf&#x27;,\n",
       "                 ExtraTreesClassifier(max_depth=2, max_features=3,\n",
       "                                      min_samples_leaf=4))])</pre></div></div></div><div class=\"sk-serial\"><div class=\"sk-item\"><div class=\"sk-estimator sk-toggleable\"><input class=\"sk-toggleable__control sk-hidden--visually\" id=\"sk-estimator-id-30\" type=\"checkbox\" ><label for=\"sk-estimator-id-30\" class=\"sk-toggleable__label sk-toggleable__label-arrow\">PCA</label><div class=\"sk-toggleable__content\"><pre>PCA()</pre></div></div></div><div class=\"sk-item\"><div class=\"sk-estimator sk-toggleable\"><input class=\"sk-toggleable__control sk-hidden--visually\" id=\"sk-estimator-id-31\" type=\"checkbox\" ><label for=\"sk-estimator-id-31\" class=\"sk-toggleable__label sk-toggleable__label-arrow\">ExtraTreesClassifier</label><div class=\"sk-toggleable__content\"><pre>ExtraTreesClassifier(max_depth=2, max_features=3, min_samples_leaf=4)</pre></div></div></div></div></div></div></div>"
      ],
      "text/plain": [
       "Pipeline(steps=[('pca', PCA()),\n",
       "                ('etc_clf',\n",
       "                 ExtraTreesClassifier(max_depth=2, max_features=3,\n",
       "                                      min_samples_leaf=4))])"
      ]
     },
     "execution_count": 60,
     "metadata": {},
     "output_type": "execute_result"
    }
   ],
   "source": [
    "final_model.fit(X_train, y_train)"
   ]
  },
  {
   "cell_type": "code",
   "execution_count": 61,
   "id": "524d1a51-73ef-4f8d-bb8f-45169bb11f92",
   "metadata": {},
   "outputs": [
    {
     "data": {
      "text/plain": [
       "['models/etc_clf.pkl']"
      ]
     },
     "execution_count": 61,
     "metadata": {},
     "output_type": "execute_result"
    }
   ],
   "source": [
    "joblib.dump(final_model, 'models/etc_clf.pkl')"
   ]
  },
  {
   "cell_type": "code",
   "execution_count": 62,
   "id": "4a2316d1-6323-40dd-8e44-35885aa69318",
   "metadata": {},
   "outputs": [
    {
     "data": {
      "text/plain": [
       "array([[17,  0],\n",
       "       [ 5, 12]], dtype=int64)"
      ]
     },
     "execution_count": 62,
     "metadata": {},
     "output_type": "execute_result"
    }
   ],
   "source": [
    "y_test_pred = final_model.predict(X_test)\n",
    "\n",
    "confusion_matrix(y_test, y_test_pred)"
   ]
  },
  {
   "cell_type": "code",
   "execution_count": 63,
   "id": "b09c4b52-24d6-40e7-8565-11a5020e0d2d",
   "metadata": {
    "scrolled": true
   },
   "outputs": [
    {
     "data": {
      "image/png": "[encoded data removed]",
      "text/plain": [
       "<Figure size 480x480 with 1 Axes>"
      ]
     },
     "metadata": {},
     "output_type": "display_data"
    }
   ],
   "source": [
    "plt.matshow(confusion_matrix(y_test, y_test_pred), cmap=plt.cm.gray)\n",
    "plt.show()"
   ]
  },
  {
   "cell_type": "code",
   "execution_count": 65,
   "id": "85a808b9-8fde-4e0a-89e7-a66b722ff768",
   "metadata": {},
   "outputs": [
    {
     "name": "stdout",
     "output_type": "stream",
     "text": [
      "Accuracy:  0.8529411764705882\n",
      "Precision:  0.8863636363636364\n",
      "Recall:  0.8529411764705882\n",
      "F1-Score:  0.8496905393457117\n",
      "ROC AUC Score:  0.8529411764705883\n"
     ]
    }
   ],
   "source": [
    "y_pred = final_model.predict_proba(X_test)\n",
    "\n",
    "y_pred = y_pred.argmax(axis=1)\n",
    "\n",
    "y_pred = y_pred.ravel()\n",
    "\n",
    "final_results = [\n",
    "    accuracy_score(y_test, y_test_pred),\n",
    "    precision_score(y_test, y_test_pred, average='weighted'),\n",
    "    recall_score(y_test, y_test_pred, average='weighted'),\n",
    "    f1_score(y_test, y_test_pred, average='weighted'),\n",
    "    roc_auc_score(y_test, y_pred, multi_class='ovr')\n",
    "]\n",
    "\n",
    "print(\"Accuracy: \", final_results[0])\n",
    "print(\"Precision: \", final_results[1])\n",
    "print(\"Recall: \", final_results[2])\n",
    "print(\"F1-Score: \", final_results[3])\n",
    "print(\"ROC AUC Score: \", final_results[4])"
   ]
  },
  {
   "cell_type": "code",
   "execution_count": 66,
   "id": "1b4ad8c5-95e6-4e77-b58c-502bd9a22cd3",
   "metadata": {},
   "outputs": [
    {
     "data": {
      "text/plain": [
       "['models/etc_clf_results.pkl']"
      ]
     },
     "execution_count": 66,
     "metadata": {},
     "output_type": "execute_result"
    }
   ],
   "source": [
    "joblib.dump(final_results, 'models/etc_clf_results.pkl')"
   ]
  }
 ],
 "metadata": {
  "kernelspec": {
   "display_name": "Python 3 (ipykernel)",
   "language": "python",
   "name": "python3"
  },
  "language_info": {
   "codemirror_mode": {
    "name": "ipython",
    "version": 3
   },
   "file_extension": ".py",
   "mimetype": "text/x-python",
   "name": "python",
   "nbconvert_exporter": "python",
   "pygments_lexer": "ipython3",
   "version": "3.11.4"
  }
 },
 "nbformat": 4,
 "nbformat_minor": 5
}
